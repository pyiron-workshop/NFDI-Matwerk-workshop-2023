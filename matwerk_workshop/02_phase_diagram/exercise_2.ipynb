{
 "cells": [
  {
   "cell_type": "markdown",
   "id": "763c1b9b-9b87-4ab9-9092-a2b4d76fa4be",
   "metadata": {},
   "source": [
    "# <font style=\"color:#B71C1C\" face=\"Helvetica\" > Exercise 2 </font>"
   ]
  },
  {
   "cell_type": "code",
   "execution_count": 1,
   "id": "4c028a0d-d46b-4fbb-9b8e-1956a7d5215d",
   "metadata": {},
   "outputs": [],
   "source": [
    "import matplotlib.pyplot as plt\n",
    "import numpy as np\n",
    "from pyiron_atomistics import Project\n",
    "from helpers import *\n",
    "from calphy.integrators import kb"
   ]
  },
  {
   "cell_type": "code",
   "execution_count": null,
   "id": "dbab0aaf-cdd5-48f7-b08e-c051e8e63d84",
   "metadata": {},
   "outputs": [],
   "source": [
    "pr = Project('exe2') "
   ]
  },
  {
   "cell_type": "markdown",
   "id": "a72ce933-f6c2-4da6-920b-937aea94a8cc",
   "metadata": {},
   "source": [
    "<font style=\"color:#B71C1C\" face=\"Helvetica\" > Calculate the melting temperature of the B32 structure </font>"
   ]
  },
  {
   "cell_type": "code",
   "execution_count": null,
   "id": "c3ecfde2-aaab-4c8d-ab4d-69d8ae8cf2f8",
   "metadata": {},
   "outputs": [],
   "source": []
  },
  {
   "cell_type": "markdown",
   "id": "b287e662-f040-4ffc-997a-64f4820da418",
   "metadata": {},
   "source": [
    "<font style=\"color:#B71C1C\" face=\"Helvetica\" > Calculate free energy as function of composition of Li </font>"
   ]
  },
  {
   "cell_type": "markdown",
   "id": "1da9205a-bbe3-40d4-b198-e4fb049e17c0",
   "metadata": {},
   "source": [
    "- Choose composition of Li from 0 to 0.25\n",
    "- Choose a temperature from 700 to 1000\n",
    "- Choose liquid and fcc structures\n",
    "- Calculate and plot the free energy curves\n",
    "- Perform common tangent construction\n",
    "- Identify regions of stability of the two structures"
   ]
  },
  {
   "cell_type": "code",
   "execution_count": null,
   "id": "2c84e7b6-b9df-456a-9f9f-f03d54f59b28",
   "metadata": {},
   "outputs": [],
   "source": []
  }
 ],
 "metadata": {
  "kernelspec": {
   "display_name": "Python 3 (ipykernel)",
   "language": "python",
   "name": "python3"
  },
  "language_info": {
   "codemirror_mode": {
    "name": "ipython",
    "version": 3
   },
   "file_extension": ".py",
   "mimetype": "text/x-python",
   "name": "python",
   "nbconvert_exporter": "python",
   "pygments_lexer": "ipython3",
   "version": "3.10.5"
  }
 },
 "nbformat": 4,
 "nbformat_minor": 5
}
