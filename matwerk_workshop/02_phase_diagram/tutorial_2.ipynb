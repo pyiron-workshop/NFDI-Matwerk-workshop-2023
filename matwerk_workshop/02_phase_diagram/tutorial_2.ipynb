{
 "cells": [
  {
   "cell_type": "markdown",
   "id": "e6829c50-ea89-4b95-b76b-5d61dd4a122a",
   "metadata": {},
   "source": [
    "# <font style=\"color:#B71C1C\" face=\"Helvetica\" > AlLi phase diagram </font>"
   ]
  },
  {
   "cell_type": "markdown",
   "id": "abee24ee-55ed-4ad0-b4af-b53c59d398b9",
   "metadata": {},
   "source": [
    "In this notebook, we will use the EAM potential fitted in the previous day and move towards the AlLi phase diagram. We will use many of the methods and tools we discussed in the last sessions and put them together for calculation of phase diagrams. We start with the phase diagram of AlLi from Ref. [[1]](https://doi.org/10.1002/adma.19910031215). "
   ]
  },
  {
   "cell_type": "markdown",
   "id": "4df3f86c-245c-4b80-bac9-4a73e5d321cb",
   "metadata": {},
   "source": [
    "<img src=\"img/alli_phase_diagram.jpg\" width=\"50%\">"
   ]
  },
  {
   "cell_type": "markdown",
   "id": "593a2179-b9d7-47d2-a56d-7bdfbad7b253",
   "metadata": {},
   "source": [
    "In the last session, we calculated the melting temperatures of the pure phases Al and Li, thereby arriving at two points on the phase diagram. In this notebook, we will start with the left side of the phase diagram, until $X_{Li} < 0.5$."
   ]
  },
  {
   "cell_type": "markdown",
   "id": "719cf65b-4052-4858-9295-869d4340c9dc",
   "metadata": {},
   "source": [
    "As always, we start by importing the necessary modules."
   ]
  },
  {
   "cell_type": "code",
   "execution_count": 1,
   "id": "2fdb55d8-d5f9-4b93-81ff-45116ee94e3a",
   "metadata": {
    "tags": []
   },
   "outputs": [
    {
     "name": "stderr",
     "output_type": "stream",
     "text": [
      "/home/menon/miniconda3/envs/pyiron-atom-dev/lib/python3.10/site-packages/paramiko-2.10.3-py3.10.egg/paramiko/transport.py:236: CryptographyDeprecationWarning: Blowfish has been deprecated\n",
      "  \"class\": algorithms.Blowfish,\n"
     ]
    }
   ],
   "source": [
    "import matplotlib.pyplot as plt\n",
    "import numpy as np\n",
    "from pyiron_atomistics import Project\n",
    "from helpers import *\n",
    "from calphy.integrators import kb\n",
    "from tqdm.notebook import tqdm"
   ]
  },
  {
   "cell_type": "markdown",
   "id": "7763e0b6-693e-42eb-89bf-e22f3e1e4001",
   "metadata": {},
   "source": [
    "Most of the interesting features of the phase diagram at composition of $X_{Li} < 0.5$ lies between the temperature range of 800-1000 K. Therefore, we will calculate the free energy in this range. Similar to the previous session, we will use reversible scaling to obtain the free energy in this temperature range in a single calculation. We will recalculate the free energy of pure Al in FCC lattice and pure Al liquid first."
   ]
  },
  {
   "cell_type": "code",
   "execution_count": 2,
   "id": "36d73ee9-02a1-457b-bdc5-93b2042b1bb1",
   "metadata": {},
   "outputs": [],
   "source": [
    "pr = Project(\"phase_diagram\")"
   ]
  },
  {
   "cell_type": "markdown",
   "id": "97370438-9cb7-477d-888e-82a9b6545cc0",
   "metadata": {},
   "source": [
    "## <font style=\"color:#B71C1C\" face=\"Helvetica\" > Pure Al </font>"
   ]
  },
  {
   "cell_type": "markdown",
   "id": "abc918e0-96b9-427c-9fb1-3f996d0f4193",
   "metadata": {},
   "source": [
    "### <font style=\"color:#B71C1C\" face=\"Helvetica\" > Solid </font>"
   ]
  },
  {
   "cell_type": "markdown",
   "id": "2d17f281-807d-4c0e-b449-3a3884cd4732",
   "metadata": {},
   "source": [
    "We start by creating an FCC structure. The converged lattice constant has been provided so as to speed up the calculations. "
   ]
  },
  {
   "cell_type": "code",
   "execution_count": 3,
   "id": "5f2e42f8-6f0f-4b4d-8463-c0fbd7536e02",
   "metadata": {},
   "outputs": [],
   "source": [
    "structure = pr.create.structure.ase.bulk('Al', cubic=True, a=4.135).repeat(4)"
   ]
  },
  {
   "cell_type": "markdown",
   "id": "8468bcbe-f760-43ae-bdf3-d3d32c20453b",
   "metadata": {},
   "source": [
    "We can visualise the structure."
   ]
  },
  {
   "cell_type": "code",
   "execution_count": 4,
   "id": "106b6736-9516-4846-b0ff-547f1b00ca29",
   "metadata": {},
   "outputs": [
    {
     "data": {
      "application/vnd.jupyter.widget-view+json": {
       "model_id": "ef24a3fbb5d44217baa9ce7dda876f51",
       "version_major": 2,
       "version_minor": 0
      },
      "text/plain": []
     },
     "metadata": {},
     "output_type": "display_data"
    },
    {
     "data": {
      "application/vnd.jupyter.widget-view+json": {
       "model_id": "9a3b6ab37b0e4bcda4ad20a38d7d5a9c",
       "version_major": 2,
       "version_minor": 0
      },
      "text/plain": [
       "NGLWidget()"
      ]
     },
     "metadata": {},
     "output_type": "display_data"
    }
   ],
   "source": [
    "structure.plot3d()"
   ]
  },
  {
   "cell_type": "markdown",
   "id": "41df6862-5651-4346-8db0-05d07d62a192",
   "metadata": {},
   "source": [
    "Our FCC lattice consists of a 5x5x5 supercell consisting of 500 atoms. Now we create a Calphy job in pyiron and assign a potential. "
   ]
  },
  {
   "cell_type": "code",
   "execution_count": 77,
   "id": "41f8d1e0-8f8c-4dfb-b3d9-805801cdb488",
   "metadata": {
    "tags": []
   },
   "outputs": [],
   "source": [
    "job_sol = pr.create.job.Calphy(\"xp_sol\")\n",
    "job_sol.structure = structure"
   ]
  },
  {
   "cell_type": "markdown",
   "id": "8bcacb95-c984-434b-a2cc-970b8c513bfb",
   "metadata": {},
   "source": [
    "The potential has been configured for pure Al."
   ]
  },
  {
   "cell_type": "code",
   "execution_count": 78,
   "id": "7eb06e12-c0dd-4fd8-9f6a-0f228e7724ca",
   "metadata": {},
   "outputs": [],
   "source": [
    "job_sol.potential = \"Al-atomicrex\""
   ]
  },
  {
   "cell_type": "markdown",
   "id": "1d2731f6-8c1c-484f-9161-e679cd253428",
   "metadata": {},
   "source": [
    "We have assigned the potential and structure. To speed up the calculations, we will run it on 2 cores."
   ]
  },
  {
   "cell_type": "code",
   "execution_count": 79,
   "id": "dcd99a88-7a0d-49ef-b943-0c5ac1195224",
   "metadata": {},
   "outputs": [],
   "source": [
    "job_sol.server.cores = 2"
   ]
  },
  {
   "cell_type": "markdown",
   "id": "28e6d72d-3821-4f25-92e2-0b2827ad3c6e",
   "metadata": {},
   "source": [
    "Now let's use the `calc_free_energy` method."
   ]
  },
  {
   "cell_type": "code",
   "execution_count": 80,
   "id": "1a9c5498-cf05-4f77-b78e-488076fa666d",
   "metadata": {},
   "outputs": [],
   "source": [
    "job_sol.calc_free_energy(temperature=[800, 1000], \n",
    "                     pressure=0, \n",
    "                     reference_phase=\"solid\",\n",
    "                     n_equilibration_steps=5000,\n",
    "                     n_switching_steps=5000)"
   ]
  },
  {
   "cell_type": "markdown",
   "id": "9979b8d5-2cd5-42ab-b48d-3d39022a6337",
   "metadata": {},
   "source": [
    "Before we actually run the calculation, let us discuss the various parameters. `temperature` keyword gives the temperature range over which the free energy is to be calculated. Since we provide `[700, 1000]`, the free energy is calculated between this range. `pressure` denotes the pressure of the calculation, we chose 0 in this case. Since we are using a solid FCC lattice, we set `reference_phase` to `\"solid\"`. This means that the Einstein crystal will be used as the reference system. Finally, we have `n_equilibration_steps` and `n_switching_steps`. `n_equilibration_steps` denotes the number of MD steps over which the system is equilibrated to the required temperature and pressure. `n_switching_steps` are the number of MD steps over which the system is continuously transformed between the given interatomic potential, and the reference Einstein crystal."
   ]
  },
  {
   "cell_type": "markdown",
   "id": "0420ab48-1095-4f11-8061-6e04795f8b24",
   "metadata": {},
   "source": [
    "Finally we run the calculation."
   ]
  },
  {
   "cell_type": "code",
   "execution_count": 81,
   "id": "6d076f83-949a-44d7-8128-cf568dec5e07",
   "metadata": {},
   "outputs": [
    {
     "name": "stderr",
     "output_type": "stream",
     "text": [
      "2022-06-07 20:54:40,399 - pyiron_log - WARNING - The job xp_sol is being loaded instead of running. To re-run use the argument 'delete_existing_job=True in create_job'\n"
     ]
    }
   ],
   "source": [
    "job_sol.run()"
   ]
  },
  {
   "cell_type": "markdown",
   "id": "b6b98c51-35a4-45c9-a2b6-27049378cd19",
   "metadata": {},
   "source": [
    "### <font style=\"color:#B71C1C\" face=\"Helvetica\" > Liquid </font>"
   ]
  },
  {
   "cell_type": "markdown",
   "id": "201d5bd1-88e4-4de9-8a54-08ee6acebf66",
   "metadata": {},
   "source": [
    "Before we look at the output of the previous calculation, we will also calculate the free energy of the liquid phase. For this we can use the same structure as the solid. The Calphy workflow will first superheat the structure, melt it, and then equilibrate to the required temperature and pressure. Therefore the input for the pyiron job looks fairly same."
   ]
  },
  {
   "cell_type": "code",
   "execution_count": 82,
   "id": "361de986-8a22-4df7-b91c-2c74d11e2ee3",
   "metadata": {},
   "outputs": [],
   "source": [
    "job_lqd = pr.create.job.Calphy(\"xp_lqd\")\n",
    "job_lqd.structure = structure\n",
    "job_lqd.potential = \"Al-atomicrex\"\n",
    "job_lqd.server.cores = 2\n",
    "job_lqd.calc_free_energy(temperature=[800, 1000], \n",
    "                     pressure=0, \n",
    "                     reference_phase=\"liquid\",\n",
    "                     n_equilibration_steps=5000,\n",
    "                     n_switching_steps=5000)"
   ]
  },
  {
   "cell_type": "markdown",
   "id": "9acd93d9-a5bc-4410-9db3-fb35cf925edc",
   "metadata": {},
   "source": [
    "The major change in the input is that the `reference_phase` is `\"liquid\"`, instead of `\"solid\"`. In this case, the Uhlenbeck-Ford model is used as the reference system instead of the Einstein crystal. Now run the job,"
   ]
  },
  {
   "cell_type": "code",
   "execution_count": 83,
   "id": "1ba6b5cf-a275-4d05-a28c-8fb051bd7621",
   "metadata": {
    "tags": []
   },
   "outputs": [
    {
     "name": "stderr",
     "output_type": "stream",
     "text": [
      "2022-06-07 20:54:42,201 - pyiron_log - WARNING - The job xp_lqd is being loaded instead of running. To re-run use the argument 'delete_existing_job=True in create_job'\n"
     ]
    }
   ],
   "source": [
    "job_lqd.run()"
   ]
  },
  {
   "cell_type": "markdown",
   "id": "29e45736-f6ed-43a6-b5d5-7a595344dfc1",
   "metadata": {},
   "source": [
    "Now we can look at the output; and plot the free energies of the two phases and calculate the melting temperature."
   ]
  },
  {
   "cell_type": "code",
   "execution_count": 84,
   "id": "a7831534-8932-4646-a714-81c30cb82968",
   "metadata": {},
   "outputs": [
    {
     "data": {
      "text/plain": [
       "{'groups': ['lial_thermodynamics_composition', 'phase_diagram'], 'nodes': ['xp_alli', 'xp_sol', 'xp_lqd', 'x0_sol', 'x0_lqd', 'x0_alli', 'x1_sol', 'x1_lqd', 'x1_alli', 'x2_sol', 'x2_lqd', 'x2_alli', 'x3_sol', 'x3_lqd', 'x3_alli', 'x4_sol', 'x4_lqd', 'x4_alli']}"
      ]
     },
     "execution_count": 84,
     "metadata": {},
     "output_type": "execute_result"
    }
   ],
   "source": [
    "pr"
   ]
  },
  {
   "cell_type": "code",
   "execution_count": 85,
   "id": "7b67fdc6-2954-4af9-9b2a-9ae2df890c2a",
   "metadata": {},
   "outputs": [
    {
     "data": {
      "text/plain": [
       "[<matplotlib.lines.Line2D at 0x7f622020f7f0>]"
      ]
     },
     "execution_count": 85,
     "metadata": {},
     "output_type": "execute_result"
    },
    {
     "data": {
      "image/png": "[encoded data removed]",
      "text/plain": [
       "<Figure size 432x288 with 1 Axes>"
      ]
     },
     "metadata": {
      "needs_background": "light"
     },
     "output_type": "display_data"
    }
   ],
   "source": [
    "plt.plot(pr['xp_sol'].output.temperature, pr['xp_sol'].output.energy_free,\n",
    "        label=\"Al solid\", color='#C62828')\n",
    "plt.plot(pr['xp_lqd'].output.temperature, pr['xp_lqd'].output.energy_free,\n",
    "        label=\"Al liquid\", color='#006899')"
   ]
  },
  {
   "cell_type": "markdown",
   "id": "919abb78-a241-4c02-8bba-20d74fa1a587",
   "metadata": {},
   "source": [
    "Great, finally, we will also calculate the free energy of the Al Li structure. Let's read in the structrue from the given file and plot it."
   ]
  },
  {
   "cell_type": "code",
   "execution_count": 86,
   "id": "33bf1f2d-ba68-473c-809b-ad4ee81fa528",
   "metadata": {},
   "outputs": [],
   "source": [
    "AlLi = pr.create.structure.ase.read('LiAl_poscar', format='vasp')"
   ]
  },
  {
   "cell_type": "code",
   "execution_count": 87,
   "id": "0530321e-6292-4f35-a319-9a04f56ff9a3",
   "metadata": {},
   "outputs": [
    {
     "data": {
      "application/vnd.jupyter.widget-view+json": {
       "model_id": "8c74d2bc602d40688ddf032218df7aa1",
       "version_major": 2,
       "version_minor": 0
      },
      "text/plain": [
       "NGLWidget()"
      ]
     },
     "metadata": {},
     "output_type": "display_data"
    }
   ],
   "source": [
    "AlLi.plot3d()"
   ]
  },
  {
   "cell_type": "markdown",
   "id": "0df357e6-6f40-411f-b443-2c0f27af19b8",
   "metadata": {},
   "source": [
    "We are calculating the free energy at zero percent Li, there will replace all the Li atoms with Al."
   ]
  },
  {
   "cell_type": "code",
   "execution_count": 88,
   "id": "a4724977-e552-434e-8543-2ebe54fd5d4b",
   "metadata": {},
   "outputs": [],
   "source": [
    "AlLi[:] = 'Al'"
   ]
  },
  {
   "cell_type": "code",
   "execution_count": 89,
   "id": "47d97564-88d2-40ec-87c9-de6b70a16045",
   "metadata": {},
   "outputs": [
    {
     "data": {
      "application/vnd.jupyter.widget-view+json": {
       "model_id": "22b6fe33b9444d9fbbc31264683f98b9",
       "version_major": 2,
       "version_minor": 0
      },
      "text/plain": [
       "NGLWidget()"
      ]
     },
     "metadata": {},
     "output_type": "display_data"
    }
   ],
   "source": [
    "AlLi.plot3d()"
   ]
  },
  {
   "cell_type": "markdown",
   "id": "d7efef54-b256-4b79-939e-df6fedd5e808",
   "metadata": {},
   "source": [
    "Now we run the calculation to calculate the free energy at the same temperature range."
   ]
  },
  {
   "cell_type": "code",
   "execution_count": 90,
   "id": "c468175e-f485-47b9-b504-0ba8e02a8f1f",
   "metadata": {
    "tags": []
   },
   "outputs": [
    {
     "name": "stderr",
     "output_type": "stream",
     "text": [
      "2022-06-07 20:54:48,944 - pyiron_log - WARNING - The job xp_alli is being loaded instead of running. To re-run use the argument 'delete_existing_job=True in create_job'\n"
     ]
    }
   ],
   "source": [
    "job_AlLi = pr.create.job.Calphy(\"xp_alli\")\n",
    "job_AlLi.structure = AlLi\n",
    "job_AlLi.potential = \"Al-atomicrex\"\n",
    "job_AlLi.server.cores = 2\n",
    "job_AlLi.calc_free_energy(temperature=[800, 1000], \n",
    "                     pressure=0, \n",
    "                     reference_phase=\"solid\",\n",
    "                     n_equilibration_steps=5000,\n",
    "                     n_switching_steps=5000)\n",
    "job_AlLi.run()"
   ]
  },
  {
   "cell_type": "markdown",
   "id": "8b9ee4b4-ecf1-4096-bfd0-1a1381970606",
   "metadata": {},
   "source": [
    "## <font style=\"color:#B71C1C\" face=\"Helvetica\" > Free energy with composition </font>"
   ]
  },
  {
   "cell_type": "markdown",
   "id": "5f1f69ce-2262-4612-b0f5-079f651698c6",
   "metadata": {},
   "source": [
    "Now we will calculate the free energy of FCC solid, liquid and B32 phases with increasing Li compositions. We will use compositions from 0.1 to 0.5 Li. For the solid structure, we will first create an Al FCC structure, and replace randomly selected atoms with Li. Let's see how we do this."
   ]
  },
  {
   "cell_type": "code",
   "execution_count": 91,
   "id": "6c4cb706-98f6-4a33-a3dd-8b3f23f28e02",
   "metadata": {},
   "outputs": [],
   "source": [
    "structure = pr.create.structure.ase.bulk('Al', cubic=True, a=4.135).repeat(4)"
   ]
  },
  {
   "cell_type": "code",
   "execution_count": 92,
   "id": "7c68c80e-5e78-4312-b341-fa1eb9a2fa43",
   "metadata": {},
   "outputs": [
    {
     "data": {
      "application/vnd.jupyter.widget-view+json": {
       "model_id": "a14410defeb04ef2b4fe4911418f0633",
       "version_major": 2,
       "version_minor": 0
      },
      "text/plain": [
       "NGLWidget()"
      ]
     },
     "metadata": {},
     "output_type": "display_data"
    }
   ],
   "source": [
    "structure.plot3d()"
   ]
  },
  {
   "cell_type": "markdown",
   "id": "51033367-421a-44e9-b4cb-637a2edce59b",
   "metadata": {},
   "source": [
    "Now we assume we need to create 0.1 composition of Li. Therefore, the number of Li atoms needed are:"
   ]
  },
  {
   "cell_type": "code",
   "execution_count": 93,
   "id": "dfed2430-c0a9-4454-b8e5-8ce234bf3327",
   "metadata": {},
   "outputs": [
    {
     "data": {
      "text/plain": [
       "25"
      ]
     },
     "execution_count": 93,
     "metadata": {},
     "output_type": "execute_result"
    }
   ],
   "source": [
    "comp = 0.1\n",
    "n_Li = int(comp*len(structure))\n",
    "n_Li"
   ]
  },
  {
   "cell_type": "markdown",
   "id": "e57d7ab8-1813-4f33-b365-296261923a08",
   "metadata": {},
   "source": [
    "Now we randomly replace 50 Al atoms with Li."
   ]
  },
  {
   "cell_type": "code",
   "execution_count": 94,
   "id": "6693b34e-53d3-42b2-a851-514969123a43",
   "metadata": {},
   "outputs": [],
   "source": [
    "structure[np.random.permutation(len(structure))[:n_Li]] = 'Li'"
   ]
  },
  {
   "cell_type": "code",
   "execution_count": 95,
   "id": "30832772-cfba-41c5-927f-afb58c2055b3",
   "metadata": {},
   "outputs": [
    {
     "data": {
      "application/vnd.jupyter.widget-view+json": {
       "model_id": "5e66ed5316d44a539952dd45bd0914db",
       "version_major": 2,
       "version_minor": 0
      },
      "text/plain": [
       "NGLWidget()"
      ]
     },
     "metadata": {},
     "output_type": "display_data"
    }
   ],
   "source": [
    "structure.plot3d()"
   ]
  },
  {
   "cell_type": "markdown",
   "id": "8bbc1c83-207e-4025-a803-48b830fd09b5",
   "metadata": {},
   "source": [
    "We can see that some Al atoms are now replaced with Li. We also need to create B32 structures of varying compositions. For that we start with the LiAl B32 structure, and replace randomly selected Li atoms with Al, therby reducing the amount of Li in the structure."
   ]
  },
  {
   "cell_type": "code",
   "execution_count": 96,
   "id": "d3d3bafa-b5f5-4c9e-8d76-38e2564d9bdb",
   "metadata": {},
   "outputs": [],
   "source": [
    "structure = pr.create.structure.ase.read('AlLi_poscar', format='vasp')"
   ]
  },
  {
   "cell_type": "code",
   "execution_count": 97,
   "id": "a02da17c-666f-4703-aec4-439f04744d18",
   "metadata": {},
   "outputs": [
    {
     "data": {
      "application/vnd.jupyter.widget-view+json": {
       "model_id": "8dfeea5e8e4a42f28d5bba535eebb0ad",
       "version_major": 2,
       "version_minor": 0
      },
      "text/plain": [
       "NGLWidget()"
      ]
     },
     "metadata": {},
     "output_type": "display_data"
    }
   ],
   "source": [
    "structure.plot3d()"
   ]
  },
  {
   "cell_type": "markdown",
   "id": "0874a585-7ed2-47fc-9d6d-244c596ac252",
   "metadata": {},
   "source": [
    "Once again, find the number of Li atoms that need to replaced."
   ]
  },
  {
   "cell_type": "code",
   "execution_count": 98,
   "id": "d00ec755-8331-457b-866b-5ad0a93cdbab",
   "metadata": {},
   "outputs": [
    {
     "data": {
      "text/plain": [
       "172"
      ]
     },
     "execution_count": 98,
     "metadata": {},
     "output_type": "execute_result"
    }
   ],
   "source": [
    "n_Li = int((0.5-comp)*len(structure))\n",
    "n_Li"
   ]
  },
  {
   "cell_type": "markdown",
   "id": "17b20f88-6588-402c-9999-1cd96bcff667",
   "metadata": {},
   "source": [
    "Now replace random Li atoms with Al"
   ]
  },
  {
   "cell_type": "code",
   "execution_count": 99,
   "id": "39799961-d2e7-4545-8f87-948e2ee1847b",
   "metadata": {},
   "outputs": [],
   "source": [
    "rinds = len(structure)//2 + np.random.choice(range(len(structure)//2), n_Li, replace=False)\n",
    "structure[rinds] = 'Al'"
   ]
  },
  {
   "cell_type": "code",
   "execution_count": 100,
   "id": "393a96e9-6592-4a1c-bc90-7446124f3555",
   "metadata": {},
   "outputs": [
    {
     "data": {
      "application/vnd.jupyter.widget-view+json": {
       "model_id": "30bb7d6a6d6e4cf0a1926fe8aa65be6c",
       "version_major": 2,
       "version_minor": 0
      },
      "text/plain": [
       "NGLWidget()"
      ]
     },
     "metadata": {},
     "output_type": "display_data"
    }
   ],
   "source": [
    "structure.plot3d()"
   ]
  },
  {
   "cell_type": "markdown",
   "id": "0cd85ff7-2a54-45f3-9f97-3446f91bd0d6",
   "metadata": {},
   "source": [
    "Now we have all the necessary components in place. We can simply create a loop over the compositions and run the calculations. We have prepared the functions which create structures that can be used directly."
   ]
  },
  {
   "cell_type": "code",
   "execution_count": 101,
   "id": "1ac33e3e-e6bc-426b-a7d4-837643022670",
   "metadata": {
    "tags": []
   },
   "outputs": [
    {
     "data": {
      "application/vnd.jupyter.widget-view+json": {
       "model_id": "b38b1b003ad242ea9beff91174322aa9",
       "version_major": 2,
       "version_minor": 0
      },
      "text/plain": [
       "0it [00:00, ?it/s]"
      ]
     },
     "metadata": {},
     "output_type": "display_data"
    },
    {
     "name": "stderr",
     "output_type": "stream",
     "text": [
      "2022-06-07 20:55:03,281 - pyiron_log - WARNING - The job x0_sol is being loaded instead of running. To re-run use the argument 'delete_existing_job=True in create_job'\n",
      "2022-06-07 20:55:03,786 - pyiron_log - WARNING - The job x0_lqd is being loaded instead of running. To re-run use the argument 'delete_existing_job=True in create_job'\n",
      "2022-06-07 20:55:04,280 - pyiron_log - WARNING - The job x0_alli is being loaded instead of running. To re-run use the argument 'delete_existing_job=True in create_job'\n",
      "2022-06-07 20:55:04,873 - pyiron_log - WARNING - The job x1_sol is being loaded instead of running. To re-run use the argument 'delete_existing_job=True in create_job'\n",
      "2022-06-07 20:55:05,356 - pyiron_log - WARNING - The job x1_lqd is being loaded instead of running. To re-run use the argument 'delete_existing_job=True in create_job'\n",
      "2022-06-07 20:55:05,652 - pyiron_log - WARNING - The job x1_alli is being loaded instead of running. To re-run use the argument 'delete_existing_job=True in create_job'\n",
      "2022-06-07 20:55:05,996 - pyiron_log - WARNING - The job x2_sol is being loaded instead of running. To re-run use the argument 'delete_existing_job=True in create_job'\n",
      "2022-06-07 20:55:06,287 - pyiron_log - WARNING - The job x2_lqd is being loaded instead of running. To re-run use the argument 'delete_existing_job=True in create_job'\n",
      "2022-06-07 20:55:06,577 - pyiron_log - WARNING - The job x2_alli is being loaded instead of running. To re-run use the argument 'delete_existing_job=True in create_job'\n",
      "2022-06-07 20:55:06,929 - pyiron_log - WARNING - The job x3_sol is being loaded instead of running. To re-run use the argument 'delete_existing_job=True in create_job'\n",
      "2022-06-07 20:55:07,219 - pyiron_log - WARNING - The job x3_lqd is being loaded instead of running. To re-run use the argument 'delete_existing_job=True in create_job'\n",
      "2022-06-07 20:55:07,506 - pyiron_log - WARNING - The job x3_alli is being loaded instead of running. To re-run use the argument 'delete_existing_job=True in create_job'\n",
      "2022-06-07 20:55:07,815 - pyiron_log - WARNING - The job x4_sol is being loaded instead of running. To re-run use the argument 'delete_existing_job=True in create_job'\n",
      "2022-06-07 20:55:08,107 - pyiron_log - WARNING - The job x4_lqd is being loaded instead of running. To re-run use the argument 'delete_existing_job=True in create_job'\n",
      "2022-06-07 20:55:08,399 - pyiron_log - WARNING - The job x4_alli is being loaded instead of running. To re-run use the argument 'delete_existing_job=True in create_job'\n"
     ]
    }
   ],
   "source": [
    "for count, comp in tqdm(enumerate([0.1, 0.2, 0.3, 0.4, 0.5])):\n",
    "    structure_fcc, structure_b32 = create_structures(pr, comp, repetitions=4)\n",
    "    job_sol = pr.create.job.Calphy(\"x%d_sol\"%count, delete_aborted_job=True)\n",
    "    job_sol.structure = structure_fcc\n",
    "    job_sol.potential = \"LiAl-atomicrex\"\n",
    "    job_sol.server.cores = 2\n",
    "    job_sol.calc_free_energy(temperature=[800, 1000], \n",
    "                         pressure=0, \n",
    "                         reference_phase=\"solid\",\n",
    "                         n_equilibration_steps=5000,\n",
    "                         n_switching_steps=5000)\n",
    "    job_sol.run()\n",
    "    job_lqd = pr.create.job.Calphy(\"x%d_lqd\"%count, delete_aborted_job=True)\n",
    "    job_lqd.structure = structure_fcc\n",
    "    job_lqd.potential = \"LiAl-atomicrex\"\n",
    "    job_lqd.server.cores = 2\n",
    "    job_lqd.calc_free_energy(temperature=[800, 1000], \n",
    "                         pressure=0, \n",
    "                         reference_phase=\"liquid\",\n",
    "                         n_equilibration_steps=5000,\n",
    "                         n_switching_steps=5000)\n",
    "    job_lqd.run()\n",
    "    job_alli = pr.create.job.Calphy(\"x%d_alli\"%count, delete_aborted_job=True)\n",
    "    job_alli.structure = structure_b32\n",
    "    job_alli.potential = \"LiAl-atomicrex\"\n",
    "    job_alli.server.cores = 2\n",
    "    job_alli.calc_free_energy(temperature=[800, 1000], \n",
    "                         pressure=0, \n",
    "                         reference_phase=\"solid\",\n",
    "                         n_equilibration_steps=5000,\n",
    "                         n_switching_steps=5000)\n",
    "    job_alli.run()"
   ]
  },
  {
   "cell_type": "markdown",
   "id": "ece69693-3f47-4c0f-9251-32bb09eda5db",
   "metadata": {},
   "source": [
    "### Pack the project"
   ]
  },
  {
   "cell_type": "code",
   "execution_count": 102,
   "id": "9d697e0b-e273-4ff3-aa03-885b8782e56b",
   "metadata": {},
   "outputs": [],
   "source": [
    "pr.pack(\"LiAl\")"
   ]
  },
  {
   "cell_type": "code",
   "execution_count": 103,
   "id": "4ff5ba31-def8-4de2-beb4-1fa67f5dbd21",
   "metadata": {},
   "outputs": [],
   "source": [
    "pr = Project(\"LiAl_analysis\")\n",
    "pr.unpack(\"LiAl\")"
   ]
  },
  {
   "cell_type": "code",
   "execution_count": 104,
   "id": "c1398cca-8b2e-4abd-80aa-f00b9f6a2902",
   "metadata": {},
   "outputs": [
    {
     "data": {
      "text/plain": [
       "{'groups': ['phase_diagram'], 'nodes': []}"
      ]
     },
     "execution_count": 104,
     "metadata": {},
     "output_type": "execute_result"
    }
   ],
   "source": [
    "pr"
   ]
  },
  {
   "cell_type": "markdown",
   "id": "03f0bd9e-fb40-48da-94dc-8d57e54f8641",
   "metadata": {},
   "source": [
    "## Analysing the results"
   ]
  },
  {
   "cell_type": "markdown",
   "id": "8a4fed77-59f8-41da-b4ae-4a6047f33685",
   "metadata": {},
   "source": [
    "Now we can analyse the results of the above calculations. First we create an array of the composition values."
   ]
  },
  {
   "cell_type": "code",
   "execution_count": 105,
   "id": "c3344c98-42d0-4ed7-9389-8a2a60ba9a5d",
   "metadata": {},
   "outputs": [],
   "source": [
    "comp = np.arange(0, 0.6, 0.1)"
   ]
  },
  {
   "cell_type": "markdown",
   "id": "2143e427-776b-4db4-b7d0-243296865a3d",
   "metadata": {},
   "source": [
    "For the initial set of analysis, we will choose a temperature of 800 K. "
   ]
  },
  {
   "cell_type": "code",
   "execution_count": 106,
   "id": "d22070b3-0c72-49c5-bf69-cf792a39982c",
   "metadata": {},
   "outputs": [],
   "source": [
    "temp = 800"
   ]
  },
  {
   "cell_type": "markdown",
   "id": "f7b14a89-34b5-4e99-964f-865c07a80d9f",
   "metadata": {},
   "source": [
    "The calculations we ran already has the free energy at all temperatures from 800-1000 K. We need to extract the free energy at the correct temperature. The `helpers.py` file in the folder contains some helper functions for this notebook. We provide a `fe_at` method which can extract the free energy at the required temperature. Let's take a look at the method."
   ]
  },
  {
   "cell_type": "code",
   "execution_count": 107,
   "id": "f27266d0-04e0-4525-8814-dd3e6959c98c",
   "metadata": {},
   "outputs": [
    {
     "data": {
      "text/plain": [
       "\u001b[0;31mSignature:\u001b[0m \u001b[0mfe_at\u001b[0m\u001b[0;34m(\u001b[0m\u001b[0mp\u001b[0m\u001b[0;34m,\u001b[0m \u001b[0mtemp\u001b[0m\u001b[0;34m,\u001b[0m \u001b[0mthreshold\u001b[0m\u001b[0;34m=\u001b[0m\u001b[0;36m0.1\u001b[0m\u001b[0;34m)\u001b[0m\u001b[0;34m\u001b[0m\u001b[0;34m\u001b[0m\u001b[0m\n",
       "\u001b[0;31mDocstring:\u001b[0m\n",
       "Get the free energy at a given temperature\n",
       "\n",
       "Parameters\n",
       "----------\n",
       "p: pyiron Job\n",
       "    Pyiron job with calculated free energy and temperature\n",
       "    \n",
       "temp: float\n",
       "    Required temperature\n",
       "    \n",
       "threshold: optional, default 1E-1\n",
       "    Minimum difference needed between required temperature and temperature found in pyiron job\n",
       "    \n",
       "Returns\n",
       "-------\n",
       "float: free energy value at required temperature\n",
       "\u001b[0;31mFile:\u001b[0m      ~/potentials/phase_diagram/helpers.py\n",
       "\u001b[0;31mType:\u001b[0m      function\n"
      ]
     },
     "metadata": {},
     "output_type": "display_data"
    }
   ],
   "source": [
    "fe_at?"
   ]
  },
  {
   "cell_type": "markdown",
   "id": "3ea1923f-43a9-42e5-8314-2025f34e3141",
   "metadata": {},
   "source": [
    "For for pure Al calculations, and for each composition, we extract the free energy at 800 K of the FCC, liquid and B32 phases."
   ]
  },
  {
   "cell_type": "code",
   "execution_count": 108,
   "id": "62e66d3a-c9c4-40c0-8df7-ae796d8f2d65",
   "metadata": {},
   "outputs": [],
   "source": [
    "fcc = []\n",
    "b32 = []\n",
    "lqd = []\n",
    "\n",
    "fcc.append(fe_at(pr[\"phase_diagram/xp_sol\"], temp))\n",
    "lqd.append(fe_at(pr[\"phase_diagram/xp_lqd\"], temp))\n",
    "b32.append(fe_at(pr[\"phase_diagram/xp_alli\"], temp))\n",
    "\n",
    "for i in range(5):\n",
    "    fcc.append(fe_at(pr[\"phase_diagram/x%d_sol\"%i], temp))\n",
    "    lqd.append(fe_at(pr[\"phase_diagram/x%d_lqd\"%i], temp))\n",
    "    b32.append(fe_at(pr[\"phase_diagram/x%d_alli\"%i], temp))"
   ]
  },
  {
   "cell_type": "markdown",
   "id": "20231991-df18-4556-b217-0fe731699be5",
   "metadata": {},
   "source": [
    "Plot the results"
   ]
  },
  {
   "cell_type": "code",
   "execution_count": 109,
   "id": "f6eabcb1-7a02-4e34-9fef-ea584f3a547c",
   "metadata": {},
   "outputs": [
    {
     "data": {
      "text/plain": [
       "<matplotlib.legend.Legend at 0x7f6241f3ef10>"
      ]
     },
     "execution_count": 109,
     "metadata": {},
     "output_type": "execute_result"
    },
    {
     "data": {
      "image/png": "[encoded data removed]",
      "text/plain": [
       "<Figure size 432x288 with 1 Axes>"
      ]
     },
     "metadata": {
      "needs_background": "light"
     },
     "output_type": "display_data"
    }
   ],
   "source": [
    "plt.plot(comp, fcc, '-', color=\"#e58080\")\n",
    "plt.plot(comp, lqd, '-', color=\"#66cfff\")\n",
    "plt.plot(comp, b32, '-', color=\"#ffc766\")\n",
    "plt.plot(comp, fcc, 'o', label='fcc', color=\"#e58080\", markeredgecolor=\"#424242\")\n",
    "plt.plot(comp, lqd, 'o', label='lqd', color=\"#66cfff\", markeredgecolor=\"#424242\")\n",
    "plt.plot(comp, b32, 'o', label='b32', color=\"#ffc766\", markeredgecolor=\"#424242\")\n",
    "plt.xlabel(r\"$x_{Li}$\")\n",
    "plt.ylabel(r\"F (eV/atom)\")\n",
    "plt.legend()"
   ]
  },
  {
   "cell_type": "markdown",
   "id": "123556d1-6b6e-4cdb-97b5-8711c1989d68",
   "metadata": {},
   "source": [
    "### <font style=\"color:#B71C1C\" face=\"Helvetica\" > Configurational entropy </font>"
   ]
  },
  {
   "cell_type": "markdown",
   "id": "2b4c03ca-56c7-4830-a6e7-b01eff5c219e",
   "metadata": {},
   "source": [
    "In the above example, we had off stoichiometric compositions, but we did not include configurational entropy for the solid structures. The easiest way to do this, which we will use here, is to employ the ideal mixing assumption. In the case of ideal mixing, the configuration entropy of mixing is given by,\n",
    "\n",
    "$$\n",
    "S_{mix} = -k_B (x \\log(x) + (1-x) \\log(1-x))\n",
    "$$\n",
    "\n",
    "We can add this directly to the free energy.\n",
    "\n",
    "For the liquid phase, addition of configurational entropy explicitely is not needed as is it included in the free energy calculations."
   ]
  },
  {
   "cell_type": "code",
   "execution_count": 110,
   "id": "6c011541-030a-4ac8-99b4-c6d07d5f0340",
   "metadata": {
    "tags": []
   },
   "outputs": [
    {
     "name": "stderr",
     "output_type": "stream",
     "text": [
      "/tmp/ipykernel_1698/1902816561.py:1: RuntimeWarning: divide by zero encountered in log\n",
      "  smix = -kb*(comp*np.log(comp) + (1-comp)*np.log(1-comp))\n",
      "/tmp/ipykernel_1698/1902816561.py:1: RuntimeWarning: invalid value encountered in multiply\n",
      "  smix = -kb*(comp*np.log(comp) + (1-comp)*np.log(1-comp))\n"
     ]
    }
   ],
   "source": [
    "smix = -kb*(comp*np.log(comp) + (1-comp)*np.log(1-comp))\n",
    "smix[0] = 0"
   ]
  },
  {
   "cell_type": "code",
   "execution_count": 111,
   "id": "be276386-1148-482b-8364-4ee77a2d6831",
   "metadata": {},
   "outputs": [],
   "source": [
    "fcc_mix = np.array(fcc)-temp*smix\n",
    "b32_mix = np.array(b32)-temp*smix\n",
    "lqd_mix = np.array(lqd)"
   ]
  },
  {
   "cell_type": "code",
   "execution_count": 112,
   "id": "a44bb0b3-12ba-4e39-8c9c-b2760dd65ae4",
   "metadata": {},
   "outputs": [
    {
     "data": {
      "text/plain": [
       "<matplotlib.legend.Legend at 0x7f62413ba7c0>"
      ]
     },
     "execution_count": 112,
     "metadata": {},
     "output_type": "execute_result"
    },
    {
     "data": {
      "image/png": "[encoded data removed]",
      "text/plain": [
       "<Figure size 432x288 with 1 Axes>"
      ]
     },
     "metadata": {
      "needs_background": "light"
     },
     "output_type": "display_data"
    }
   ],
   "source": [
    "plt.plot(comp, fcc_mix, '-', color=\"#e58080\")\n",
    "plt.plot(comp, lqd_mix, '-', color=\"#66cfff\")\n",
    "plt.plot(comp, b32_mix, '-', color=\"#ffc766\")\n",
    "plt.plot(comp, fcc_mix, 'o', label='fcc', color=\"#e58080\", markeredgecolor=\"#424242\")\n",
    "plt.plot(comp, lqd_mix, 'o', label='lqd', color=\"#66cfff\", markeredgecolor=\"#424242\")\n",
    "plt.plot(comp, b32_mix, 'o', label='b32', color=\"#ffc766\", markeredgecolor=\"#424242\")\n",
    "plt.xlabel(r\"$x_{Li}$\")\n",
    "plt.ylabel(r\"F (eV/atom)\")\n",
    "plt.legend()"
   ]
  },
  {
   "cell_type": "markdown",
   "id": "af6a293e-ccae-470e-b2f3-073c8354ad5f",
   "metadata": {},
   "source": [
    "To obtain the results in a computationally efficient way, we used composition along every 0.1 Li. We can fit a 3rd order polynomial to these points to get a finer grid. We will use `numpy.polyfit` for this purpose."
   ]
  },
  {
   "cell_type": "markdown",
   "id": "2115a0d2-5553-4618-a85a-4a07bd24a0cb",
   "metadata": {},
   "source": [
    "Let's first define a finer composition grid"
   ]
  },
  {
   "cell_type": "code",
   "execution_count": 113,
   "id": "fa99fe26-a476-487a-8b55-582268321cff",
   "metadata": {},
   "outputs": [],
   "source": [
    "comp_grid = np.linspace(0, 0.5, 1000)"
   ]
  },
  {
   "cell_type": "markdown",
   "id": "72988a94-4824-4d6f-9985-196595575065",
   "metadata": {},
   "source": [
    "Now we fit the free energy values and use this fit to revaluate the free energy on the finer grid."
   ]
  },
  {
   "cell_type": "code",
   "execution_count": 114,
   "id": "6c8627e1-3532-41e3-8bf4-3b2cd947bd5f",
   "metadata": {},
   "outputs": [],
   "source": [
    "fcc_fit = np.polyfit(comp, fcc_mix, 3)\n",
    "fcc_fe = np.polyval(fcc_fit, comp_grid)\n",
    "\n",
    "lqd_fit = np.polyfit(comp, lqd_mix, 3)\n",
    "lqd_fe = np.polyval(lqd_fit, comp_grid)\n",
    "\n",
    "b32_fit = np.polyfit(comp, b32_mix, 3)\n",
    "b32_fe = np.polyval(b32_fit, comp_grid)"
   ]
  },
  {
   "cell_type": "markdown",
   "id": "1d974ab9-2920-464e-9944-9097a2f8b683",
   "metadata": {},
   "source": [
    "Plot the fits"
   ]
  },
  {
   "cell_type": "code",
   "execution_count": 115,
   "id": "d55cdaba-ba66-4c51-a6ae-650176ffe8c7",
   "metadata": {},
   "outputs": [
    {
     "data": {
      "text/plain": [
       "<matplotlib.legend.Legend at 0x7f6259f01910>"
      ]
     },
     "execution_count": 115,
     "metadata": {},
     "output_type": "execute_result"
    },
    {
     "data": {
      "image/png": "[encoded data removed]",
      "text/plain": [
       "<Figure size 432x288 with 1 Axes>"
      ]
     },
     "metadata": {
      "needs_background": "light"
     },
     "output_type": "display_data"
    }
   ],
   "source": [
    "plt.plot(comp_grid, fcc_fe, '-', color=\"#e58080\")\n",
    "plt.plot(comp_grid, lqd_fe, '-', color=\"#66cfff\")\n",
    "plt.plot(comp_grid, b32_fe, '-', color=\"#ffc766\")\n",
    "plt.plot(comp, fcc_mix, 'o', label='fcc', color=\"#e58080\", markeredgecolor=\"#424242\")\n",
    "plt.plot(comp, lqd_mix, 'o', label='lqd', color=\"#66cfff\", markeredgecolor=\"#424242\")\n",
    "plt.plot(comp, b32_mix, 'o', label='b32', color=\"#ffc766\", markeredgecolor=\"#424242\")\n",
    "plt.xlabel(r\"$x_{Li}$\")\n",
    "plt.ylabel(r\"F (eV/atom)\")\n",
    "plt.legend()"
   ]
  },
  {
   "cell_type": "markdown",
   "id": "9b5cfc0b-9b8b-403a-8ec9-8c7b284c67d1",
   "metadata": {},
   "source": [
    "Now in order to identify regions we need to construct common tangents to free energy curves. To make this easier, we convert to free energy of mixing relative to the liquid. For this purpose, we subtract a straight line connecting the free energy of the pure Al liquid to the 0.5 Li liquid, from the calculated free energy. This same line will then be subtracted from the fcc and b32 curves. Our `helpers.py` module previously introduced includes helper methods to do this."
   ]
  },
  {
   "cell_type": "code",
   "execution_count": 116,
   "id": "1ac5a0ff-6f0d-4e69-a928-70821d7dbe7d",
   "metadata": {},
   "outputs": [],
   "source": [
    "lqd_fe_norm, slope, intercept = normalise_fe(lqd_fe, comp_grid)\n",
    "fcc_fe_norm = fcc_fe-(slope*comp_grid + intercept)\n",
    "b32_fe_norm = b32_fe-(slope*comp_grid + intercept)"
   ]
  },
  {
   "cell_type": "code",
   "execution_count": 117,
   "id": "0a9dd6eb-dd70-42fe-a72e-8fe091557c54",
   "metadata": {},
   "outputs": [
    {
     "data": {
      "text/plain": [
       "<matplotlib.legend.Legend at 0x7f622006dc70>"
      ]
     },
     "execution_count": 117,
     "metadata": {},
     "output_type": "execute_result"
    },
    {
     "data": {
      "image/png": "[encoded data removed]",
      "text/plain": [
       "<Figure size 432x288 with 1 Axes>"
      ]
     },
     "metadata": {
      "needs_background": "light"
     },
     "output_type": "display_data"
    }
   ],
   "source": [
    "plt.plot(comp_grid, fcc_fe_norm, '-', color=\"#e58080\", label='fcc')\n",
    "plt.plot(comp_grid, lqd_fe_norm, '-', color=\"#66cfff\", label='lqd')\n",
    "plt.plot(comp_grid, b32_fe_norm, '-', color=\"#ffc766\", label='b32')\n",
    "plt.xlabel(r\"$x_{Li}$\")\n",
    "plt.ylabel(r\"F (eV/atom)\")\n",
    "plt.legend()"
   ]
  },
  {
   "cell_type": "markdown",
   "id": "cfd5ebae-3d31-434a-b5cf-20d0661bc5f8",
   "metadata": {},
   "source": [
    "### <font style=\"color:#B71C1C\" face=\"Helvetica\" > Common tangent constructions </font>\n",
    "\n",
    "With the above curves, we can move on to common tangent constructions to identify regions where the two phases coexist. In order to calculate the common tangent for two curves $f$ and $g$, we can solve the following set of equationns:\n",
    "\n",
    "$$\n",
    "f^\\prime (x_1) = g^\\prime (x_1)\n",
    "$$\n",
    "\n",
    "$$\n",
    "\\frac{f(x_1) - g(x_2)}{(x_1 - x_2)} = f^\\prime (x_1)\n",
    "$$\n",
    "\n",
    "$x_1$ and $x_2$ are the endpoints of the common tangent."
   ]
  },
  {
   "cell_type": "markdown",
   "id": "b191d6a8-4331-46bf-9e97-70bd231026ee",
   "metadata": {},
   "source": [
    "The fitting is done using the `fsolve` method from `scipy`. Once again, `helpers.py` module offers a function to do this fitting."
   ]
  },
  {
   "cell_type": "code",
   "execution_count": 118,
   "id": "99710428-1540-4b90-801c-e5f19267faa4",
   "metadata": {},
   "outputs": [
    {
     "data": {
      "text/plain": [
       "\u001b[0;31mSignature:\u001b[0m \u001b[0mfind_common_tangent\u001b[0m\u001b[0;34m(\u001b[0m\u001b[0mfe1\u001b[0m\u001b[0;34m,\u001b[0m \u001b[0mfe2\u001b[0m\u001b[0;34m,\u001b[0m \u001b[0mguess_range\u001b[0m\u001b[0;34m)\u001b[0m\u001b[0;34m\u001b[0m\u001b[0;34m\u001b[0m\u001b[0m\n",
       "\u001b[0;31mDocstring:\u001b[0m\n",
       "Do a common tangent construction between two free energy curves.\n",
       "\n",
       "Parameters\n",
       "----------\n",
       "fe1: numpy array\n",
       "    first free energy curve\n",
       "\n",
       "fe2: numpy array\n",
       "    second free energy curve\n",
       "\n",
       "guess_range: list of floats length 2\n",
       "    The guess range to find end points of the common tangent\n",
       "\n",
       "Returns\n",
       "-------\n",
       "res: list of floats length 2\n",
       "    The end points of the common tangent\n",
       "\u001b[0;31mFile:\u001b[0m      ~/potentials/phase_diagram/helpers.py\n",
       "\u001b[0;31mType:\u001b[0m      function\n"
      ]
     },
     "metadata": {},
     "output_type": "display_data"
    }
   ],
   "source": [
    "find_common_tangent?"
   ]
  },
  {
   "cell_type": "markdown",
   "id": "f347c46d-c575-4a04-880d-408a4a4ae4fd",
   "metadata": {},
   "source": [
    "We will use this method to find the common tangent between the fcc and b32 curves"
   ]
  },
  {
   "cell_type": "code",
   "execution_count": 119,
   "id": "6f660266-9c7e-411b-886f-4c5ced59a2c5",
   "metadata": {},
   "outputs": [
    {
     "data": {
      "text/plain": [
       "array([0.24357731, 0.32399064])"
      ]
     },
     "execution_count": 119,
     "metadata": {},
     "output_type": "execute_result"
    }
   ],
   "source": [
    "ct = find_common_tangent(fcc_fit, b32_fit, [0.0, 0.25])\n",
    "ct"
   ]
  },
  {
   "cell_type": "markdown",
   "id": "7a11a4b0-2108-4a8e-9bd5-29cd9195395e",
   "metadata": {},
   "source": [
    "Note that we provided the polynomials that describe the free energy curves, obtained from fitting to the function. We have obtained $x_1$ and $x_2$. We can plot the common tangent now."
   ]
  },
  {
   "cell_type": "code",
   "execution_count": 120,
   "id": "aa60a42a-5d80-41b4-88ee-aa9d7f49b7ed",
   "metadata": {},
   "outputs": [
    {
     "data": {
      "text/plain": [
       "<matplotlib.legend.Legend at 0x7f62414b4b80>"
      ]
     },
     "execution_count": 120,
     "metadata": {},
     "output_type": "execute_result"
    },
    {
     "data": {
      "image/png": "[encoded data removed]",
      "text/plain": [
       "<Figure size 432x288 with 1 Axes>"
      ]
     },
     "metadata": {
      "needs_background": "light"
     },
     "output_type": "display_data"
    }
   ],
   "source": [
    "plt.plot(comp_grid, fcc_fe_norm, '-', color=\"#e58080\", label='fcc')\n",
    "plt.plot(comp_grid, lqd_fe_norm, '-', color=\"#66cfff\", label='lqd')\n",
    "plt.plot(comp_grid, b32_fe_norm, '-', color=\"#ffc766\", label='b32')\n",
    "plt.plot(ct, [np.polyval(fcc_fit, ct[0])-(slope*ct[0] + intercept),\n",
    "             np.polyval(b32_fit, ct[1])-(slope*ct[1] + intercept)], color=\"#424242\")\n",
    "plt.xlabel(r\"$x_{Li}$\")\n",
    "plt.ylabel(r\"F (eV/atom)\")\n",
    "plt.legend()"
   ]
  },
  {
   "cell_type": "markdown",
   "id": "2c97c878-34c6-4c36-ae63-c47547f3f22a",
   "metadata": {},
   "source": [
    "Lets take a moment to analyse this plot. We obtained 0.24 and 0.32 as the end points of the common tangent. From the figure, this means that FCC is the most stable structure upto $x_{Li} = 0.24$. Between $0.24 \\leq x_{Li} \\leq 0.32$, both fcc and b32 phases coexist. Finally, for $x_{Li} > 0.32$, b32 is the most stable phase. "
   ]
  },
  {
   "cell_type": "markdown",
   "id": "5a875317-34fe-4985-8853-bab1e7a88521",
   "metadata": {},
   "source": [
    "Therefore we have obtained already a slice of the phase diagram at 800 K. We can now put all of this methods together and easily calculate for different temperatures."
   ]
  },
  {
   "cell_type": "code",
   "execution_count": 121,
   "id": "bb751ac8-0cea-4cc2-a903-5c1ede163ea6",
   "metadata": {},
   "outputs": [
    {
     "name": "stdout",
     "output_type": "stream",
     "text": [
      "[0.25254351 0.3283028 ]\n"
     ]
    },
    {
     "data": {
      "text/plain": [
       "<matplotlib.legend.Legend at 0x7f62413f2dc0>"
      ]
     },
     "execution_count": 121,
     "metadata": {},
     "output_type": "execute_result"
    },
    {
     "data": {
      "image/png": "[encoded data removed]",
      "text/plain": [
       "<Figure size 432x288 with 1 Axes>"
      ]
     },
     "metadata": {
      "needs_background": "light"
     },
     "output_type": "display_data"
    }
   ],
   "source": [
    "temp = 900\n",
    "\n",
    "fcc = []\n",
    "b32 = []\n",
    "lqd = []\n",
    "fcc.append(fe_at(pr[\"phase_diagram/xp_sol\"], temp))\n",
    "lqd.append(fe_at(pr[\"phase_diagram/xp_lqd\"], temp))\n",
    "b32.append(fe_at(pr[\"phase_diagram/xp_alli\"], temp))\n",
    "for i in range(5):\n",
    "    fcc.append(fe_at(pr[\"phase_diagram/x%d_sol\"%i], temp))\n",
    "    lqd.append(fe_at(pr[\"phase_diagram/x%d_lqd\"%i], temp))\n",
    "    b32.append(fe_at(pr[\"phase_diagram/x%d_alli\"%i], temp))\n",
    "fcc_mix = np.array(fcc)-temp*smix\n",
    "b32_mix = np.array(b32)-temp*smix\n",
    "lqd_mix = np.array(lqd)\n",
    "fcc_fit = np.polyfit(comp, fcc_mix, 3)\n",
    "fcc_fe = np.polyval(fcc_fit, comp_grid)\n",
    "lqd_fit = np.polyfit(comp, lqd_mix, 3)\n",
    "lqd_fe = np.polyval(lqd_fit, comp_grid)\n",
    "b32_fit = np.polyfit(comp, b32_mix, 3)\n",
    "b32_fe = np.polyval(b32_fit, comp_grid)\n",
    "lqd_fe_norm, slope, intercept = normalise_fe(lqd_fe, comp_grid)\n",
    "fcc_fe_norm = fcc_fe-(slope*comp_grid + intercept)\n",
    "b32_fe_norm = b32_fe-(slope*comp_grid + intercept)\n",
    "ct = find_common_tangent(fcc_fit, b32_fit, [0.0, 0.25])\n",
    "print(ct)\n",
    "plt.plot(comp_grid, fcc_fe_norm, '-', color=\"#e58080\", label='fcc')\n",
    "plt.plot(comp_grid, lqd_fe_norm, '-', color=\"#66cfff\", label='lqd')\n",
    "plt.plot(comp_grid, b32_fe_norm, '-', color=\"#ffc766\", label='b32')\n",
    "plt.plot(ct, [np.polyval(fcc_fit, ct[0])-(slope*ct[0] + intercept),\n",
    "             np.polyval(b32_fit, ct[1])-(slope*ct[1] + intercept)], color=\"#424242\")\n",
    "plt.xlabel(r\"$x_{Li}$\")\n",
    "plt.ylabel(r\"F (eV/atom)\")\n",
    "plt.legend()"
   ]
  },
  {
   "cell_type": "markdown",
   "id": "9d51fdc8-4c00-4eff-a561-efa75da15052",
   "metadata": {},
   "source": [
    "Now we continue this process for temperatures of 950 K."
   ]
  },
  {
   "cell_type": "code",
   "execution_count": 127,
   "id": "1c086539-7a4b-4b71-82db-744227af5d5f",
   "metadata": {},
   "outputs": [
    {
     "name": "stdout",
     "output_type": "stream",
     "text": [
      "[0.23139167 0.26587513]\n",
      "[0.35619186 0.31664302]\n"
     ]
    },
    {
     "data": {
      "text/plain": [
       "<matplotlib.legend.Legend at 0x7f62096d3a90>"
      ]
     },
     "execution_count": 127,
     "metadata": {},
     "output_type": "execute_result"
    },
    {
     "data": {
      "image/png": "[encoded data removed]",
      "text/plain": [
       "<Figure size 432x288 with 1 Axes>"
      ]
     },
     "metadata": {
      "needs_background": "light"
     },
     "output_type": "display_data"
    }
   ],
   "source": [
    "temp = 950\n",
    "\n",
    "fcc = []\n",
    "b32 = []\n",
    "lqd = []\n",
    "fcc.append(fe_at(pr[\"phase_diagram/xp_sol\"], temp))\n",
    "lqd.append(fe_at(pr[\"phase_diagram/xp_lqd\"], temp))\n",
    "b32.append(fe_at(pr[\"phase_diagram/xp_alli\"], temp))\n",
    "for i in range(5):\n",
    "    fcc.append(fe_at(pr[\"phase_diagram/x%d_sol\"%i], temp))\n",
    "    lqd.append(fe_at(pr[\"phase_diagram/x%d_lqd\"%i], temp))\n",
    "    b32.append(fe_at(pr[\"phase_diagram/x%d_alli\"%i], temp))\n",
    "fcc_mix = np.array(fcc)-temp*smix\n",
    "b32_mix = np.array(b32)-temp*smix\n",
    "lqd_mix = np.array(lqd)\n",
    "fcc_fit = np.polyfit(comp, fcc_mix, 3)\n",
    "fcc_fe = np.polyval(fcc_fit, comp_grid)\n",
    "lqd_fit = np.polyfit(comp, lqd_mix, 3)\n",
    "lqd_fe = np.polyval(lqd_fit, comp_grid)\n",
    "b32_fit = np.polyfit(comp, b32_mix, 3)\n",
    "b32_fe = np.polyval(b32_fit, comp_grid)\n",
    "lqd_fe_norm, slope, intercept = normalise_fe(lqd_fe, comp_grid)\n",
    "fcc_fe_norm = fcc_fe-(slope*comp_grid + intercept)\n",
    "b32_fe_norm = b32_fe-(slope*comp_grid + intercept)\n",
    "plt.plot(comp_grid, fcc_fe_norm, '-', color=\"#e58080\", label='fcc')\n",
    "plt.plot(comp_grid, lqd_fe_norm, '-', color=\"#66cfff\", label='lqd')\n",
    "plt.plot(comp_grid, b32_fe_norm, '-', color=\"#ffc766\", label='b32')\n",
    "ct = find_common_tangent(fcc_fit, lqd_fit, [0.1, 0.3])\n",
    "print(ct)\n",
    "ct1 = find_common_tangent(b32_fit, lqd_fit, [0.3, 0.5])\n",
    "print(ct1)\n",
    "plt.plot(comp_grid, fcc_fe_norm, '-', color=\"#e58080\", label='fcc')\n",
    "plt.plot(comp_grid, lqd_fe_norm, '-', color=\"#66cfff\", label='lqd')\n",
    "plt.plot(comp_grid, b32_fe_norm, '-', color=\"#ffc766\", label='b32')\n",
    "plt.plot(ct, [np.polyval(fcc_fit, ct[0])-(slope*ct[0] + intercept),\n",
    "             np.polyval(lqd_fit, ct[1])-(slope*ct[1] + intercept)], color=\"#424242\")\n",
    "plt.plot(ct1, [np.polyval(b32_fit, ct1[0])-(slope*ct1[0] + intercept),\n",
    "             np.polyval(lqd_fit, ct1[1])-(slope*ct1[1] + intercept)], color=\"#424242\")\n",
    "\n",
    "\n",
    "\n",
    "plt.xlabel(r\"$x_{Li}$\")\n",
    "plt.ylabel(r\"F (eV/atom)\")\n",
    "plt.legend()"
   ]
  },
  {
   "cell_type": "markdown",
   "id": "4380aa40-d8af-4bb3-9865-6baad8b4263e",
   "metadata": {},
   "source": [
    "Now let's put together all the common tangent constructions to arrive at the phase diagram.\n",
    "\n",
    "Since we used a very small system, and switching times, the obtained phase diagram will not be accurate. The results shown here uses a system size of about 4000 atoms for each structure, and 50 ps of equilibration and switching time.\n",
    "\n",
    "Let's first look at the phase diagram with the calculated points."
   ]
  },
  {
   "cell_type": "markdown",
   "id": "751a286a-2880-4529-b1d0-2ed3d6c400d0",
   "metadata": {},
   "source": [
    "<img src=\"img/phase_diagram_dotted.png\" width=\"50%\">"
   ]
  },
  {
   "cell_type": "markdown",
   "id": "3bf1c514-627a-486f-9225-46ac6ff84bc0",
   "metadata": {},
   "source": [
    "And the phase diagram"
   ]
  },
  {
   "cell_type": "markdown",
   "id": "e860e1f5-bf4d-48fc-920e-ff3e866fb449",
   "metadata": {},
   "source": [
    "<img src=\"img/phase_diagram_calculated.png\" width=\"50%\">\n",
    "<img src=\"img/alli_phase_diagram.jpg\" width=\"50%\">"
   ]
  },
  {
   "cell_type": "markdown",
   "id": "128787e7-a7d9-4d9a-a4d3-c884635b3dc3",
   "metadata": {},
   "source": [
    "### <font style=\"color:#B71C1C\" face=\"Helvetica\" > Further reading </font>\n",
    "\n",
    "- [Ryu, Seunghwa, and Wei Cai. “A Gold-Silicon Potential Fitted to the Binary Phase Diagram.” Journal of Physics Condensed Matter 22, no. 5 (2010).](https://doi.org/10.1088/0953-8984/22/5/055401).\n"
   ]
  },
  {
   "cell_type": "code",
   "execution_count": null,
   "id": "644a908b-7885-46f2-a54b-3a8e8175c3e5",
   "metadata": {},
   "outputs": [],
   "source": []
  }
 ],
 "metadata": {
  "kernelspec": {
   "display_name": "pyiron-atom-dev",
   "language": "python",
   "name": "pyiron-atom-dev"
  },
  "language_info": {
   "codemirror_mode": {
    "name": "ipython",
    "version": 3
   },
   "file_extension": ".py",
   "mimetype": "text/x-python",
   "name": "python",
   "nbconvert_exporter": "python",
   "pygments_lexer": "ipython3",
   "version": "3.10.5"
  }
 },
 "nbformat": 4,
 "nbformat_minor": 5
}
