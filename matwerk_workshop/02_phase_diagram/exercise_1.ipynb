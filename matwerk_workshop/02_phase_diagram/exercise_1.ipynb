{
 "cells": [
  {
   "cell_type": "markdown",
   "id": "e9cdf324-526d-426f-82f3-4dea4112355e",
   "metadata": {},
   "source": [
    "# <font style=\"color:#B71C1C\" face=\"Helvetica\" > Exercise 1 </font>"
   ]
  },
  {
   "cell_type": "code",
   "execution_count": 2,
   "id": "026431fb-44fa-4b99-8fff-d0a1a9b642e2",
   "metadata": {},
   "outputs": [],
   "source": [
    "from helpers import potential_list\n",
    "from pyiron_atomistics import Project\n",
    "import matplotlib.pyplot as plt\n",
    "import numpy as np"
   ]
  },
  {
   "cell_type": "code",
   "execution_count": 3,
   "id": "08881280-a4a9-40c1-b8a5-38d176bb01da",
   "metadata": {},
   "outputs": [],
   "source": [
    "pr = Project('exe2') "
   ]
  },
  {
   "cell_type": "markdown",
   "id": "78f75741-2f78-4e2a-8c07-470336383dfd",
   "metadata": {
    "tags": []
   },
   "source": [
    "<font style=\"color:#B71C1C\" face=\"Helvetica\" > Task 1: Calculate free energy of FCC Al at 500 K, 10000 bar </font>"
   ]
  },
  {
   "cell_type": "markdown",
   "id": "5e7a9194-4eee-450b-b83a-9e5315ad4d00",
   "metadata": {},
   "source": [
    "Use a lattice constant of 4.099 for the FCC structure"
   ]
  },
  {
   "cell_type": "code",
   "execution_count": null,
   "id": "a3bd0dee-2d28-44ca-a3c4-0f0ad7569246",
   "metadata": {},
   "outputs": [],
   "source": []
  },
  {
   "cell_type": "markdown",
   "id": "46f74c25-174e-44a8-9803-75c9eeaf8ba7",
   "metadata": {},
   "source": [
    "<font style=\"color:#B71C1C\" face=\"Helvetica\" > Task 2: Does Al have a solid-solid phase tranformation? </font>\n",
    "\n",
    "Calculate the free energy of Al in BCC and FCC structures in the temperature range of 500-1000 K. See if there is a solid-solid phase transformation. Use lattice constant of 3.264 for BCC, and 4.099 for FCC."
   ]
  },
  {
   "cell_type": "code",
   "execution_count": 7,
   "id": "db1aea00-abb6-434e-bb98-7d99cde10bb7",
   "metadata": {},
   "outputs": [],
   "source": []
  },
  {
   "cell_type": "code",
   "execution_count": 5,
   "id": "d8719e67-f884-4e01-9729-91d09275a919",
   "metadata": {},
   "outputs": [],
   "source": []
  },
  {
   "cell_type": "markdown",
   "id": "eae4fe4d-a679-48bb-b706-0b9e14603f00",
   "metadata": {},
   "source": [
    "Plot the solution"
   ]
  },
  {
   "cell_type": "code",
   "execution_count": null,
   "id": "733e70c3-48d3-4585-8745-ac20a13ab934",
   "metadata": {},
   "outputs": [],
   "source": []
  },
  {
   "cell_type": "markdown",
   "id": "1e9ae8b1-2370-4af5-8dc7-0dc6b2054eb7",
   "metadata": {},
   "source": [
    "<font style=\"color:#B71C1C\" face=\"Helvetica\" > What about at higher pressures? Check the pressure range of 100 GPa to 300 GPa? What is the most efficient way to run these calculations? </font>\n",
    "\n",
    "Use a temperature of 500 K. For FCC, use a 4x4x4 supercell with lattice constant of 3.49825. For BCC, use a 4x4x4 super cell with lattice constant of 2.7765."
   ]
  },
  {
   "cell_type": "code",
   "execution_count": null,
   "id": "5c54e6e8-aad7-4002-a493-b69076ee6dd9",
   "metadata": {},
   "outputs": [],
   "source": []
  },
  {
   "cell_type": "code",
   "execution_count": null,
   "id": "e924bdbb-8d98-446f-a04f-e7da282d4a61",
   "metadata": {},
   "outputs": [],
   "source": []
  },
  {
   "cell_type": "markdown",
   "id": "a280a075-7f1e-4ec1-bd25-70b47c687b14",
   "metadata": {
    "tags": []
   },
   "source": [
    "<font style=\"color:#B71C1C\" face=\"Helvetica\" > Task 3: Calculate melting temperature of Al at 10000 bar </font>"
   ]
  },
  {
   "cell_type": "code",
   "execution_count": null,
   "id": "26979116-591c-4845-a461-5c7947a23c98",
   "metadata": {},
   "outputs": [],
   "source": []
  },
  {
   "cell_type": "markdown",
   "id": "de8e390b-e4a8-4dc2-9237-31f4acab1a42",
   "metadata": {},
   "source": [
    "<font style=\"color:#B71C1C\" face=\"Helvetica\" > Task 4: How do select the temperature range to calculate the melting temperature? What happens if the range is too high/low? </font>"
   ]
  },
  {
   "cell_type": "code",
   "execution_count": null,
   "id": "da9798ee-720d-443b-9b89-3d90f8d6795c",
   "metadata": {},
   "outputs": [],
   "source": []
  },
  {
   "cell_type": "markdown",
   "id": "d4a8505a-29ac-459f-bd57-17d747787628",
   "metadata": {},
   "source": [
    "<font style=\"color:#B71C1C\" face=\"Helvetica\" > Task 5: How can we compare estimate the error on the calculated melting temperature? </font>"
   ]
  },
  {
   "cell_type": "code",
   "execution_count": null,
   "id": "26e50237-6cd7-4bd7-a942-b6aa6d5d5d29",
   "metadata": {},
   "outputs": [],
   "source": []
  },
  {
   "cell_type": "code",
   "execution_count": null,
   "id": "5220213d-4f1e-49cf-92f5-c44a05d84465",
   "metadata": {},
   "outputs": [],
   "source": []
  },
  {
   "cell_type": "markdown",
   "id": "9a812126-0cf4-4b08-9e11-00dbcb9585db",
   "metadata": {},
   "source": [
    "<font style=\"color:#B71C1C\" face=\"Helvetica\" > Task 6: Calculate the melting temperature of Li </font>\n",
    "\n",
    "Use temperature range of 350-500.  "
   ]
  },
  {
   "cell_type": "code",
   "execution_count": null,
   "id": "0b321950-f17e-43a7-b5f1-249e901ab36f",
   "metadata": {},
   "outputs": [],
   "source": []
  }
 ],
 "metadata": {
  "kernelspec": {
   "display_name": "Python 3 (ipykernel)",
   "language": "python",
   "name": "python3"
  },
  "language_info": {
   "codemirror_mode": {
    "name": "ipython",
    "version": 3
   },
   "file_extension": ".py",
   "mimetype": "text/x-python",
   "name": "python",
   "nbconvert_exporter": "python",
   "pygments_lexer": "ipython3",
   "version": "3.9.16"
  }
 },
 "nbformat": 4,
 "nbformat_minor": 5
}
