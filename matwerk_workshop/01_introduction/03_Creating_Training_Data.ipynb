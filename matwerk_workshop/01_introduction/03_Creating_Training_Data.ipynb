{
 "cells": [
  {
   "cell_type": "markdown",
   "id": "brutal-healing",
   "metadata": {},
   "source": [
    "# Exercise 2: Creating and working with structure databases\n",
    "\n",
    "Before the excercise, you should:\n",
    "\n",
    "* Run the 01_Introduction_Pyiron.ipynb notebook\n",
    "\n",
    "The aim of this exercise is to make you familiar with:\n",
    "\n",
    "* Creating structure databases and working with them for potential fitting (day 2)"
   ]
  },
  {
   "cell_type": "markdown",
   "id": "cheap-chick",
   "metadata": {},
   "source": [
    "## Importing necessary modules and creating a project\n",
    "\n",
    "This is done the same way as shown in the first exercise"
   ]
  },
  {
   "cell_type": "code",
   "execution_count": 1,
   "id": "2ef1e9e7-492a-4208-9d3b-3444f4d81ad2",
   "metadata": {},
   "outputs": [],
   "source": [
    "import numpy as np\n",
    "%matplotlib inline\n",
    "import matplotlib.pylab as plt\n",
    "import os"
   ]
  },
  {
   "cell_type": "code",
   "execution_count": 2,
   "id": "academic-print",
   "metadata": {},
   "outputs": [
    {
     "name": "stderr",
     "output_type": "stream",
     "text": [
      "/srv/conda/envs/notebook/lib/python3.8/site-packages/pkg_resources/__init__.py:123: PkgResourcesDeprecationWarning: NOT-A-GIT-REPOSITORY is an invalid version and will not be supported in a future release\n",
      "  warnings.warn(\n"
     ]
    },
    {
     "data": {
      "application/vnd.jupyter.widget-view+json": {
       "model_id": "72002bd0653d4bbe9c75fdec1835bc4e",
       "version_major": 2,
       "version_minor": 0
      },
      "text/plain": []
     },
     "metadata": {},
     "output_type": "display_data"
    }
   ],
   "source": [
    "from pyiron import Project"
   ]
  },
  {
   "cell_type": "code",
   "execution_count": 3,
   "id": "comparable-creation",
   "metadata": {},
   "outputs": [],
   "source": [
    "pr = Project(\"creating_datasets\")"
   ]
  },
  {
   "cell_type": "markdown",
   "id": "focal-percentage",
   "metadata": {},
   "source": [
    "## Creating a structure \"container\" from the data\n",
    "\n",
    "We now go over the jobs generated in the first notebook to store structures, energies, and forces into a structure container which will later be used for potential fitting\n",
    "\n",
    "**Note**: Usually these datasets are created using highly accurate DFT calculations. But for practical reasons, we only demonstrate how to do this using data from LAMMPS calculations (the workflow remain the same)"
   ]
  },
  {
   "cell_type": "markdown",
   "id": "7c95a6c4-9332-41b4-a3fe-d87194d1bc2e",
   "metadata": {},
   "source": [
    "Access the project created in exercise 1.  `..` means go up one folder in the directory tree as usual in linux."
   ]
  },
  {
   "cell_type": "code",
   "execution_count": 4,
   "id": "contrary-spider",
   "metadata": {},
   "outputs": [],
   "source": [
    "pr_fs = pr[\"../first_steps\"]"
   ]
  },
  {
   "cell_type": "markdown",
   "id": "1497263c-38c3-4c0f-9015-4dcdb6b2f3f1",
   "metadata": {},
   "source": [
    "Create a TrainingContainer job (to store structures and databases)."
   ]
  },
  {
   "cell_type": "code",
   "execution_count": 9,
   "id": "superior-prospect",
   "metadata": {},
   "outputs": [],
   "source": [
    "container = pr.create.job.TrainingContainer('dataset_example')"
   ]
  },
  {
   "cell_type": "markdown",
   "id": "verified-lancaster",
   "metadata": {},
   "source": [
    "## Add structures from the E-V curves\n",
    "\n",
    "For starters, we append structures from the energy volume curves we calculated earlier"
   ]
  },
  {
   "cell_type": "code",
   "execution_count": 10,
   "id": "false-flexibility",
   "metadata": {},
   "outputs": [
    {
     "data": {
      "application/vnd.jupyter.widget-view+json": {
       "model_id": "c80ec55df0e64f0cb5b73c756c7a1d5d",
       "version_major": 2,
       "version_minor": 0
      },
      "text/plain": [
       "  0%|          | 0/7 [00:00<?, ?it/s]"
      ]
     },
     "metadata": {},
     "output_type": "display_data"
    }
   ],
   "source": [
    "for job in pr_fs[\"E_V_curve\"].iter_jobs(status=\"finished\"):\n",
    "    container.include_job(job)"
   ]
  },
  {
   "cell_type": "markdown",
   "id": "boolean-reply",
   "metadata": {},
   "source": [
    "We can obtain this data as a `pandas` table"
   ]
  },
  {
   "cell_type": "code",
   "execution_count": 11,
   "id": "introductory-latitude",
   "metadata": {},
   "outputs": [
    {
     "data": {
      "text/html": [
       "<div>\n",
       "<style scoped>\n",
       "    .dataframe tbody tr th:only-of-type {\n",
       "        vertical-align: middle;\n",
       "    }\n",
       "\n",
       "    .dataframe tbody tr th {\n",
       "        vertical-align: top;\n",
       "    }\n",
       "\n",
       "    .dataframe thead th {\n",
       "        text-align: right;\n",
       "    }\n",
       "</style>\n",
       "<table border=\"1\" class=\"dataframe\">\n",
       "  <thead>\n",
       "    <tr style=\"text-align: right;\">\n",
       "      <th></th>\n",
       "      <th>name</th>\n",
       "      <th>atoms</th>\n",
       "      <th>energy</th>\n",
       "      <th>forces</th>\n",
       "      <th>stress</th>\n",
       "      <th>number_of_atoms</th>\n",
       "    </tr>\n",
       "  </thead>\n",
       "  <tbody>\n",
       "    <tr>\n",
       "      <th>0</th>\n",
       "      <td>job_a_3_8</td>\n",
       "      <td>[element: [None, AtomicNumber                       13\\nAtomicRadius                    118.0\\nAtomicMass                  26.981539\\nColor                          Silver\\nCovalentRadius         ...</td>\n",
       "      <td>-3.192897</td>\n",
       "      <td>[[1.6276043110675176e-16, 1.0529105848988852e-16, 5.1718187378489436e-17]]</td>\n",
       "      <td>[25.037460604415703, 25.037460605376904, 25.037460604885503, 9.278150850360161e-10, 9.583505518476542e-10, -6.776540272768861e-10]</td>\n",
       "      <td>1</td>\n",
       "    </tr>\n",
       "    <tr>\n",
       "      <th>1</th>\n",
       "      <td>job_a_3_9</td>\n",
       "      <td>[element: [None, AtomicNumber                       13\\nAtomicRadius                    118.0\\nAtomicMass                  26.981539\\nColor                          Silver\\nCovalentRadius         ...</td>\n",
       "      <td>-3.319542</td>\n",
       "      <td>[[7.639186604470381e-18, 1.2897999183801795e-17, 6.560662375038692e-17]]</td>\n",
       "      <td>[11.7835809621756, 11.783580962894401, 11.783580964499402, -2.9210890660206204e-11, 4.5548187747551897e-10, -3.2208895273694305e-10]</td>\n",
       "      <td>1</td>\n",
       "    </tr>\n",
       "    <tr>\n",
       "      <th>2</th>\n",
       "      <td>job_a_4_0</td>\n",
       "      <td>[element: [None, AtomicNumber                       13\\nAtomicRadius                    118.0\\nAtomicMass                  26.981539\\nColor                          Silver\\nCovalentRadius         ...</td>\n",
       "      <td>-3.367063</td>\n",
       "      <td>[[-3.5024524628727396e-17, -1.320930466294525e-17, 5.849496262865055e-18]]</td>\n",
       "      <td>[2.1774865934278202, 2.17748659599896, 2.1774865953501803, -1.2204712117387501e-11, 8.04195020225017e-10, 1.13730200248357e-09]</td>\n",
       "      <td>1</td>\n",
       "    </tr>\n",
       "    <tr>\n",
       "      <th>3</th>\n",
       "      <td>job_a_4_1</td>\n",
       "      <td>[element: [None, AtomicNumber                       13\\nAtomicRadius                    118.0\\nAtomicMass                  26.981539\\nColor                          Silver\\nCovalentRadius         ...</td>\n",
       "      <td>-3.360600</td>\n",
       "      <td>[[-2.2377622695133157e-17, -4.0689075283847526e-17, 2.1062919550300275e-17]]</td>\n",
       "      <td>[-3.32656345373484, -3.32656345287999, -3.32656345199962, 1.44346086248294e-10, 2.68736816186093e-10, 3.8004542651085804e-10]</td>\n",
       "      <td>1</td>\n",
       "    </tr>\n",
       "    <tr>\n",
       "      <th>4</th>\n",
       "      <td>job_a_4_2</td>\n",
       "      <td>[element: [None, AtomicNumber                       13\\nAtomicRadius                    118.0\\nAtomicMass                  26.981539\\nColor                          Silver\\nCovalentRadius         ...</td>\n",
       "      <td>-3.317017</td>\n",
       "      <td>[[2.1405562304448044e-17, 9.465137265930533e-17, -1.614674972511662e-17]]</td>\n",
       "      <td>[-7.34400540416366, -7.344005404000251, -7.3440054020844014, 5.444172612856411e-10, 9.032537237010151e-10, -6.38697915161281e-10]</td>\n",
       "      <td>1</td>\n",
       "    </tr>\n",
       "    <tr>\n",
       "      <th>5</th>\n",
       "      <td>job_a_4_3</td>\n",
       "      <td>[element: [None, AtomicNumber                       13\\nAtomicRadius                    118.0\\nAtomicMass                  26.981539\\nColor                          Silver\\nCovalentRadius         ...</td>\n",
       "      <td>-3.241535</td>\n",
       "      <td>[[-5.0018187940959333e-17, -7.753256254350387e-17, -7.947668332487412e-17]]</td>\n",
       "      <td>[-10.206225127542101, -10.2062251265863, -10.2062251275071, 2.3284396085851003e-10, 2.69898641821963e-10, 3.8169349934623504e-10]</td>\n",
       "      <td>1</td>\n",
       "    </tr>\n",
       "    <tr>\n",
       "      <th>6</th>\n",
       "      <td>job_a_4_4</td>\n",
       "      <td>[element: [None, AtomicNumber                       13\\nAtomicRadius                    118.0\\nAtomicMass                  26.981539\\nColor                          Silver\\nCovalentRadius         ...</td>\n",
       "      <td>-3.145751</td>\n",
       "      <td>[[-7.31320096256601e-17, 2.773206044106321e-16, -1.2031135854225408e-16]]</td>\n",
       "      <td>[-11.0438299224574, -11.0438299224868, -11.0438299224679, -5.24346994489793e-11, -2.1255620053309103e-11, 1.50307693032171e-11]</td>\n",
       "      <td>1</td>\n",
       "    </tr>\n",
       "  </tbody>\n",
       "</table>\n",
       "</div>"
      ],
      "text/plain": [
       "        name  \\\n",
       "0  job_a_3_8   \n",
       "1  job_a_3_9   \n",
       "2  job_a_4_0   \n",
       "3  job_a_4_1   \n",
       "4  job_a_4_2   \n",
       "5  job_a_4_3   \n",
       "6  job_a_4_4   \n",
       "\n",
       "                                                                                                                                                                                                     atoms  \\\n",
       "0  [element: [None, AtomicNumber                       13\\nAtomicRadius                    118.0\\nAtomicMass                  26.981539\\nColor                          Silver\\nCovalentRadius         ...   \n",
       "1  [element: [None, AtomicNumber                       13\\nAtomicRadius                    118.0\\nAtomicMass                  26.981539\\nColor                          Silver\\nCovalentRadius         ...   \n",
       "2  [element: [None, AtomicNumber                       13\\nAtomicRadius                    118.0\\nAtomicMass                  26.981539\\nColor                          Silver\\nCovalentRadius         ...   \n",
       "3  [element: [None, AtomicNumber                       13\\nAtomicRadius                    118.0\\nAtomicMass                  26.981539\\nColor                          Silver\\nCovalentRadius         ...   \n",
       "4  [element: [None, AtomicNumber                       13\\nAtomicRadius                    118.0\\nAtomicMass                  26.981539\\nColor                          Silver\\nCovalentRadius         ...   \n",
       "5  [element: [None, AtomicNumber                       13\\nAtomicRadius                    118.0\\nAtomicMass                  26.981539\\nColor                          Silver\\nCovalentRadius         ...   \n",
       "6  [element: [None, AtomicNumber                       13\\nAtomicRadius                    118.0\\nAtomicMass                  26.981539\\nColor                          Silver\\nCovalentRadius         ...   \n",
       "\n",
       "     energy  \\\n",
       "0 -3.192897   \n",
       "1 -3.319542   \n",
       "2 -3.367063   \n",
       "3 -3.360600   \n",
       "4 -3.317017   \n",
       "5 -3.241535   \n",
       "6 -3.145751   \n",
       "\n",
       "                                                                         forces  \\\n",
       "0    [[1.6276043110675176e-16, 1.0529105848988852e-16, 5.1718187378489436e-17]]   \n",
       "1      [[7.639186604470381e-18, 1.2897999183801795e-17, 6.560662375038692e-17]]   \n",
       "2    [[-3.5024524628727396e-17, -1.320930466294525e-17, 5.849496262865055e-18]]   \n",
       "3  [[-2.2377622695133157e-17, -4.0689075283847526e-17, 2.1062919550300275e-17]]   \n",
       "4     [[2.1405562304448044e-17, 9.465137265930533e-17, -1.614674972511662e-17]]   \n",
       "5   [[-5.0018187940959333e-17, -7.753256254350387e-17, -7.947668332487412e-17]]   \n",
       "6     [[-7.31320096256601e-17, 2.773206044106321e-16, -1.2031135854225408e-16]]   \n",
       "\n",
       "                                                                                                                                 stress  \\\n",
       "0    [25.037460604415703, 25.037460605376904, 25.037460604885503, 9.278150850360161e-10, 9.583505518476542e-10, -6.776540272768861e-10]   \n",
       "1  [11.7835809621756, 11.783580962894401, 11.783580964499402, -2.9210890660206204e-11, 4.5548187747551897e-10, -3.2208895273694305e-10]   \n",
       "2       [2.1774865934278202, 2.17748659599896, 2.1774865953501803, -1.2204712117387501e-11, 8.04195020225017e-10, 1.13730200248357e-09]   \n",
       "3         [-3.32656345373484, -3.32656345287999, -3.32656345199962, 1.44346086248294e-10, 2.68736816186093e-10, 3.8004542651085804e-10]   \n",
       "4     [-7.34400540416366, -7.344005404000251, -7.3440054020844014, 5.444172612856411e-10, 9.032537237010151e-10, -6.38697915161281e-10]   \n",
       "5     [-10.206225127542101, -10.2062251265863, -10.2062251275071, 2.3284396085851003e-10, 2.69898641821963e-10, 3.8169349934623504e-10]   \n",
       "6       [-11.0438299224574, -11.0438299224868, -11.0438299224679, -5.24346994489793e-11, -2.1255620053309103e-11, 1.50307693032171e-11]   \n",
       "\n",
       "   number_of_atoms  \n",
       "0                1  \n",
       "1                1  \n",
       "2                1  \n",
       "3                1  \n",
       "4                1  \n",
       "5                1  \n",
       "6                1  "
      ]
     },
     "execution_count": 11,
     "metadata": {},
     "output_type": "execute_result"
    }
   ],
   "source": [
    "container.to_pandas()"
   ]
  },
  {
   "cell_type": "markdown",
   "id": "indirect-sellers",
   "metadata": {},
   "source": [
    "## Add structures from the MD\n",
    "\n",
    "We also add some structures obtained from the MD simulations"
   ]
  },
  {
   "cell_type": "markdown",
   "id": "4e67fde4-6c7e-41d4-90b1-f86996cb8119",
   "metadata": {},
   "source": [
    "Reloading the MD job.  Indexing a project loads jobs within."
   ]
  },
  {
   "cell_type": "code",
   "execution_count": 12,
   "id": "applied-spank",
   "metadata": {},
   "outputs": [],
   "source": [
    "job_md = pr_fs[\"lammps_job\"]"
   ]
  },
  {
   "cell_type": "markdown",
   "id": "28ed1a2c-dbf9-4bc9-80fa-ec38cfb51ef5",
   "metadata": {},
   "source": [
    "We can now iterate over the structures within and add each of them to the container."
   ]
  },
  {
   "cell_type": "code",
   "execution_count": 13,
   "id": "972b14db-1ce6-4379-86a9-e93e14bdd07a",
   "metadata": {},
   "outputs": [],
   "source": [
    "traj_length = job_md.number_of_structures\n",
    "stride = 10"
   ]
  },
  {
   "cell_type": "markdown",
   "id": "f944de10-37d8-466a-8a63-66225debf2ea",
   "metadata": {},
   "source": [
    "By default include_job will fetch the last computation step from the given job\n",
    "for other steps you have to explicitly pass which step you want."
   ]
  },
  {
   "cell_type": "code",
   "execution_count": 14,
   "id": "56883632-a394-46fe-955c-57652a6181ee",
   "metadata": {},
   "outputs": [],
   "source": [
    "for i in range(0, traj_length, stride):\n",
    "    container.include_job(job_md, iteration_step=i)"
   ]
  },
  {
   "cell_type": "markdown",
   "id": "consecutive-arbitration",
   "metadata": {},
   "source": [
    "## Add some defect structures (vacancies, surfaces, etc)\n",
    "\n",
    "It's necessary to also include some defect structures, and surfaces to the training dataset.\n",
    "\n",
    "Setup a MD calculation for a structure with a vacancy."
   ]
  },
  {
   "cell_type": "code",
   "execution_count": 15,
   "id": "a02096a1-fb7e-4a8b-99ce-4ce56f99dd2f",
   "metadata": {},
   "outputs": [],
   "source": [
    "job_lammps = pr.create.job.Lammps(\"lammps_job_vac\")\n",
    "job_lammps.structure = pr.create.structure.bulk(\"Al\", cubic=True, a=3.61).repeat([3, 3, 3])"
   ]
  },
  {
   "cell_type": "markdown",
   "id": "f791fdfc-0ed8-4bd7-9002-230a9b2cc327",
   "metadata": {},
   "source": [
    "remove the first atom of the structure to create the vacancy"
   ]
  },
  {
   "cell_type": "code",
   "execution_count": 16,
   "id": "3bb72ef5-77c2-443f-b9fc-ffedf3fe2a3d",
   "metadata": {},
   "outputs": [
    {
     "name": "stderr",
     "output_type": "stream",
     "text": [
      "2023-03-21 16:54:04,186 - pyiron_log - WARNING - The job lammps_job_vac is being loaded instead of running. To re-run use the argument 'delete_existing_job=True in create_job'\n"
     ]
    }
   ],
   "source": [
    "del job_lammps.structure[0]\n",
    "job_lammps.potential = \"2005--Mendelev-M-I--Al-Fe--LAMMPS--ipr1\"\n",
    "job_lammps.calc_md(temperature=800, pressure=0, n_ionic_steps=10000)\n",
    "job_lammps.run()"
   ]
  },
  {
   "cell_type": "markdown",
   "id": "b3b44c05-493d-45b1-ad7d-556ae6c3aab4",
   "metadata": {},
   "source": [
    "Setup a MD calculation for a surface structure.  This function follows the ASE interface to create surfaces."
   ]
  },
  {
   "cell_type": "code",
   "execution_count": 17,
   "id": "7299eb34-2b12-4730-b2eb-02991c78f8c7",
   "metadata": {},
   "outputs": [
    {
     "name": "stderr",
     "output_type": "stream",
     "text": [
      "2023-03-21 16:54:05,603 - pyiron_log - WARNING - The job lammps_job_surf is being loaded instead of running. To re-run use the argument 'delete_existing_job=True in create_job'\n"
     ]
    }
   ],
   "source": [
    "job_lammps = pr.create.job.Lammps(\"lammps_job_surf\")\n",
    "job_lammps.structure = pr.create.structure.surface(\"Al\", surface_type=\"fcc111\", size=(4, 4, 8), vacuum=12, orthogonal=True)\n",
    "job_lammps.potential = \"2005--Mendelev-M-I--Al-Fe--LAMMPS--ipr1\"\n",
    "job_lammps.calc_md(temperature=800, pressure=0, n_ionic_steps=10000)\n",
    "job_lammps.run()"
   ]
  },
  {
   "cell_type": "code",
   "execution_count": 14,
   "id": "accepted-silly",
   "metadata": {},
   "outputs": [
    {
     "data": {
      "text/plain": [
       "{'groups': [], 'nodes': ['lammps_job_vac', 'lammps_job_surf']}"
      ]
     },
     "execution_count": 14,
     "metadata": {},
     "output_type": "execute_result"
    }
   ],
   "source": [
    "pr"
   ]
  },
  {
   "cell_type": "markdown",
   "id": "diverse-stability",
   "metadata": {},
   "source": [
    "We now add these structures to the dataset like we did before."
   ]
  },
  {
   "cell_type": "code",
   "execution_count": 18,
   "id": "single-treasure",
   "metadata": {},
   "outputs": [
    {
     "data": {
      "application/vnd.jupyter.widget-view+json": {
       "model_id": "bfda9684bd5c4bf1bd8ea05aec5cc19f",
       "version_major": 2,
       "version_minor": 0
      },
      "text/plain": [
       "  0%|          | 0/2 [00:00<?, ?it/s]"
      ]
     },
     "metadata": {},
     "output_type": "display_data"
    }
   ],
   "source": [
    "for job_md in pr.iter_jobs(status=\"finished\", hamilton=\"Lammps\"):\n",
    "    stride = 10\n",
    "    for i in range(0, job.number_of_structures, stride):\n",
    "        container.include_job(job_md, iteration_step=i)"
   ]
  },
  {
   "cell_type": "markdown",
   "id": "45f78271-c224-46c1-b9f2-cba6300a26f3",
   "metadata": {},
   "source": [
    "We run the job to store this dataset in the pyiron database.  Without running the training container \"job\" the data will **not** saved!"
   ]
  },
  {
   "cell_type": "code",
   "execution_count": 19,
   "id": "3e1c48ff-5ff4-447a-9419-fec805c0fe04",
   "metadata": {},
   "outputs": [
    {
     "name": "stdout",
     "output_type": "stream",
     "text": [
      "The job dataset_example was saved and received the ID: 57\n"
     ]
    }
   ],
   "source": [
    "container.run()"
   ]
  },
  {
   "cell_type": "code",
   "execution_count": 20,
   "id": "professional-change",
   "metadata": {},
   "outputs": [
    {
     "data": {
      "text/html": [
       "<div>\n",
       "<style scoped>\n",
       "    .dataframe tbody tr th:only-of-type {\n",
       "        vertical-align: middle;\n",
       "    }\n",
       "\n",
       "    .dataframe tbody tr th {\n",
       "        vertical-align: top;\n",
       "    }\n",
       "\n",
       "    .dataframe thead th {\n",
       "        text-align: right;\n",
       "    }\n",
       "</style>\n",
       "<table border=\"1\" class=\"dataframe\">\n",
       "  <thead>\n",
       "    <tr style=\"text-align: right;\">\n",
       "      <th></th>\n",
       "      <th>id</th>\n",
       "      <th>status</th>\n",
       "      <th>chemicalformula</th>\n",
       "      <th>job</th>\n",
       "      <th>subjob</th>\n",
       "      <th>projectpath</th>\n",
       "      <th>project</th>\n",
       "      <th>timestart</th>\n",
       "      <th>timestop</th>\n",
       "      <th>totalcputime</th>\n",
       "      <th>computer</th>\n",
       "      <th>hamilton</th>\n",
       "      <th>hamversion</th>\n",
       "      <th>parentid</th>\n",
       "      <th>masterid</th>\n",
       "    </tr>\n",
       "  </thead>\n",
       "  <tbody>\n",
       "    <tr>\n",
       "      <th>0</th>\n",
       "      <td>51</td>\n",
       "      <td>finished</td>\n",
       "      <td>Al107</td>\n",
       "      <td>lammps_job_vac</td>\n",
       "      <td>/lammps_job_vac</td>\n",
       "      <td>None</td>\n",
       "      <td>/home/joyvan/potentials/introduction/creating_datasets/</td>\n",
       "      <td>2023-03-17 12:05:20.160750</td>\n",
       "      <td>2023-03-17 12:05:23.753826</td>\n",
       "      <td>3.0</td>\n",
       "      <td>pyiron@jupyter-poul#1</td>\n",
       "      <td>Lammps</td>\n",
       "      <td>0.1</td>\n",
       "      <td>None</td>\n",
       "      <td>None</td>\n",
       "    </tr>\n",
       "    <tr>\n",
       "      <th>1</th>\n",
       "      <td>52</td>\n",
       "      <td>finished</td>\n",
       "      <td>Al128</td>\n",
       "      <td>lammps_job_surf</td>\n",
       "      <td>/lammps_job_surf</td>\n",
       "      <td>None</td>\n",
       "      <td>/home/joyvan/potentials/introduction/creating_datasets/</td>\n",
       "      <td>2023-03-17 12:05:24.161941</td>\n",
       "      <td>2023-03-17 12:05:27.544571</td>\n",
       "      <td>3.0</td>\n",
       "      <td>pyiron@jupyter-poul#1</td>\n",
       "      <td>Lammps</td>\n",
       "      <td>0.1</td>\n",
       "      <td>None</td>\n",
       "      <td>None</td>\n",
       "    </tr>\n",
       "    <tr>\n",
       "      <th>2</th>\n",
       "      <td>57</td>\n",
       "      <td>finished</td>\n",
       "      <td>None</td>\n",
       "      <td>dataset_example</td>\n",
       "      <td>/dataset_example</td>\n",
       "      <td>None</td>\n",
       "      <td>/home/joyvan/potentials/introduction/creating_datasets/</td>\n",
       "      <td>2023-03-21 16:54:33.226455</td>\n",
       "      <td>NaT</td>\n",
       "      <td>NaN</td>\n",
       "      <td>pyiron@jupyter-poul#1</td>\n",
       "      <td>TrainingContainer</td>\n",
       "      <td>0.4</td>\n",
       "      <td>None</td>\n",
       "      <td>None</td>\n",
       "    </tr>\n",
       "  </tbody>\n",
       "</table>\n",
       "</div>"
      ],
      "text/plain": [
       "   id    status chemicalformula              job            subjob  \\\n",
       "0  51  finished           Al107   lammps_job_vac   /lammps_job_vac   \n",
       "1  52  finished           Al128  lammps_job_surf  /lammps_job_surf   \n",
       "2  57  finished            None  dataset_example  /dataset_example   \n",
       "\n",
       "  projectpath                                                  project  \\\n",
       "0        None  /home/joyvan/potentials/introduction/creating_datasets/   \n",
       "1        None  /home/joyvan/potentials/introduction/creating_datasets/   \n",
       "2        None  /home/joyvan/potentials/introduction/creating_datasets/   \n",
       "\n",
       "                   timestart                   timestop  totalcputime  \\\n",
       "0 2023-03-17 12:05:20.160750 2023-03-17 12:05:23.753826           3.0   \n",
       "1 2023-03-17 12:05:24.161941 2023-03-17 12:05:27.544571           3.0   \n",
       "2 2023-03-21 16:54:33.226455                        NaT           NaN   \n",
       "\n",
       "                computer           hamilton hamversion parentid masterid  \n",
       "0  pyiron@jupyter-poul#1             Lammps        0.1     None     None  \n",
       "1  pyiron@jupyter-poul#1             Lammps        0.1     None     None  \n",
       "2  pyiron@jupyter-poul#1  TrainingContainer        0.4     None     None  "
      ]
     },
     "execution_count": 20,
     "metadata": {},
     "output_type": "execute_result"
    }
   ],
   "source": [
    "pr.job_table()"
   ]
  },
  {
   "cell_type": "markdown",
   "id": "technological-partner",
   "metadata": {},
   "source": [
    "## Reloading the dataset\n",
    "\n",
    "This dataset can now be reloaded anywhere to use in the potential fitting procedures"
   ]
  },
  {
   "cell_type": "code",
   "execution_count": 21,
   "id": "processed-samuel",
   "metadata": {},
   "outputs": [
    {
     "data": {
      "text/html": [
       "<div>\n",
       "<style scoped>\n",
       "    .dataframe tbody tr th:only-of-type {\n",
       "        vertical-align: middle;\n",
       "    }\n",
       "\n",
       "    .dataframe tbody tr th {\n",
       "        vertical-align: top;\n",
       "    }\n",
       "\n",
       "    .dataframe thead th {\n",
       "        text-align: right;\n",
       "    }\n",
       "</style>\n",
       "<table border=\"1\" class=\"dataframe\">\n",
       "  <thead>\n",
       "    <tr style=\"text-align: right;\">\n",
       "      <th></th>\n",
       "      <th>name</th>\n",
       "      <th>atoms</th>\n",
       "      <th>energy</th>\n",
       "      <th>forces</th>\n",
       "      <th>stress</th>\n",
       "      <th>number_of_atoms</th>\n",
       "    </tr>\n",
       "  </thead>\n",
       "  <tbody>\n",
       "    <tr>\n",
       "      <th>0</th>\n",
       "      <td>job_a_3_8</td>\n",
       "      <td>[element: [None, AtomicNumber                       13\\nAtomicRadius                    118.0\\nAtomicMass                  26.981539\\nColor                          Silver\\nCovalentRadius         ...</td>\n",
       "      <td>-3.192897</td>\n",
       "      <td>[[1.6276043110675176e-16, 1.0529105848988852e-16, 5.1718187378489436e-17]]</td>\n",
       "      <td>[25.037460604415703, 25.037460605376904, 25.037460604885503, 9.278150850360161e-10, 9.583505518476542e-10, -6.776540272768861e-10]</td>\n",
       "      <td>1</td>\n",
       "    </tr>\n",
       "    <tr>\n",
       "      <th>1</th>\n",
       "      <td>job_a_3_9</td>\n",
       "      <td>[element: [None, AtomicNumber                       13\\nAtomicRadius                    118.0\\nAtomicMass                  26.981539\\nColor                          Silver\\nCovalentRadius         ...</td>\n",
       "      <td>-3.319542</td>\n",
       "      <td>[[7.639186604470381e-18, 1.2897999183801795e-17, 6.560662375038692e-17]]</td>\n",
       "      <td>[11.7835809621756, 11.783580962894401, 11.783580964499402, -2.9210890660206204e-11, 4.5548187747551897e-10, -3.2208895273694305e-10]</td>\n",
       "      <td>1</td>\n",
       "    </tr>\n",
       "    <tr>\n",
       "      <th>2</th>\n",
       "      <td>job_a_4_0</td>\n",
       "      <td>[element: [None, AtomicNumber                       13\\nAtomicRadius                    118.0\\nAtomicMass                  26.981539\\nColor                          Silver\\nCovalentRadius         ...</td>\n",
       "      <td>-3.367063</td>\n",
       "      <td>[[-3.5024524628727396e-17, -1.320930466294525e-17, 5.849496262865055e-18]]</td>\n",
       "      <td>[2.1774865934278202, 2.17748659599896, 2.1774865953501803, -1.2204712117387501e-11, 8.04195020225017e-10, 1.13730200248357e-09]</td>\n",
       "      <td>1</td>\n",
       "    </tr>\n",
       "    <tr>\n",
       "      <th>3</th>\n",
       "      <td>job_a_4_1</td>\n",
       "      <td>[element: [None, AtomicNumber                       13\\nAtomicRadius                    118.0\\nAtomicMass                  26.981539\\nColor                          Silver\\nCovalentRadius         ...</td>\n",
       "      <td>-3.360600</td>\n",
       "      <td>[[-2.2377622695133157e-17, -4.0689075283847526e-17, 2.1062919550300275e-17]]</td>\n",
       "      <td>[-3.32656345373484, -3.32656345287999, -3.32656345199962, 1.44346086248294e-10, 2.68736816186093e-10, 3.8004542651085804e-10]</td>\n",
       "      <td>1</td>\n",
       "    </tr>\n",
       "    <tr>\n",
       "      <th>4</th>\n",
       "      <td>job_a_4_2</td>\n",
       "      <td>[element: [None, AtomicNumber                       13\\nAtomicRadius                    118.0\\nAtomicMass                  26.981539\\nColor                          Silver\\nCovalentRadius         ...</td>\n",
       "      <td>-3.317017</td>\n",
       "      <td>[[2.1405562304448044e-17, 9.465137265930533e-17, -1.614674972511662e-17]]</td>\n",
       "      <td>[-7.34400540416366, -7.344005404000251, -7.3440054020844014, 5.444172612856411e-10, 9.032537237010151e-10, -6.38697915161281e-10]</td>\n",
       "      <td>1</td>\n",
       "    </tr>\n",
       "    <tr>\n",
       "      <th>5</th>\n",
       "      <td>job_a_4_3</td>\n",
       "      <td>[element: [None, AtomicNumber                       13\\nAtomicRadius                    118.0\\nAtomicMass                  26.981539\\nColor                          Silver\\nCovalentRadius         ...</td>\n",
       "      <td>-3.241535</td>\n",
       "      <td>[[-5.0018187940959333e-17, -7.753256254350387e-17, -7.947668332487412e-17]]</td>\n",
       "      <td>[-10.206225127542101, -10.2062251265863, -10.2062251275071, 2.3284396085851003e-10, 2.69898641821963e-10, 3.8169349934623504e-10]</td>\n",
       "      <td>1</td>\n",
       "    </tr>\n",
       "    <tr>\n",
       "      <th>6</th>\n",
       "      <td>job_a_4_4</td>\n",
       "      <td>[element: [None, AtomicNumber                       13\\nAtomicRadius                    118.0\\nAtomicMass                  26.981539\\nColor                          Silver\\nCovalentRadius         ...</td>\n",
       "      <td>-3.145751</td>\n",
       "      <td>[[-7.31320096256601e-17, 2.773206044106321e-16, -1.2031135854225408e-16]]</td>\n",
       "      <td>[-11.0438299224574, -11.0438299224868, -11.0438299224679, -5.24346994489793e-11, -2.1255620053309103e-11, 1.50307693032171e-11]</td>\n",
       "      <td>1</td>\n",
       "    </tr>\n",
       "    <tr>\n",
       "      <th>7</th>\n",
       "      <td>lammps_job</td>\n",
       "      <td>[element: [None, AtomicNumber                       13\\nAtomicRadius                    118.0\\nAtomicMass                  26.981539\\nColor                          Silver\\nCovalentRadius         ...</td>\n",
       "      <td>-363.917370</td>\n",
       "      <td>[[5.8841820305133305e-15, 3.7990444123892135e-16, 2.740863092043364e-16], [5.02375918642883e-15, -1.5751289161869397e-15, -1.3274971399912499e-15], [1.02695629777827e-15, 8.812395257962181e-16, -8...</td>\n",
       "      <td>[0.999556665124294, 0.9904736758167861, 0.824951894171107, -0.017955018197828142, 0.06363360519613635, -0.04256361660396504]</td>\n",
       "      <td>108</td>\n",
       "    </tr>\n",
       "    <tr>\n",
       "      <th>8</th>\n",
       "      <td>lammps_job</td>\n",
       "      <td>[element: [None, AtomicNumber                       13\\nAtomicRadius                    118.0\\nAtomicMass                  26.981539\\nColor                          Silver\\nCovalentRadius         ...</td>\n",
       "      <td>-352.327898</td>\n",
       "      <td>[[-0.75036385499113, 0.4598380918639449, 0.725200216845603], [-0.271732166045788, 0.302073802280348, 0.257384300490495], [0.448407157614891, -0.296549448310268, 0.241166662468148], [-0.00933123696...</td>\n",
       "      <td>[-0.20333593198685002, -0.0514950077978542, -0.380336649881006, -0.192008378726288, -0.0008491478026102756, -0.021247590027086812]</td>\n",
       "      <td>108</td>\n",
       "    </tr>\n",
       "    <tr>\n",
       "      <th>9</th>\n",
       "      <td>lammps_job</td>\n",
       "      <td>[element: [None, AtomicNumber                       13\\nAtomicRadius                    118.0\\nAtomicMass                  26.981539\\nColor                          Silver\\nCovalentRadius         ...</td>\n",
       "      <td>-349.888834</td>\n",
       "      <td>[[-0.380822550162949, 0.795020858927261, 0.552227922138795], [-0.815959874301847, -0.02386117799239805, -0.47623155209815404], [-0.286795110662345, 0.30418979949872, 0.970569998348215], [-0.550088...</td>\n",
       "      <td>[-0.636237386917572, -1.22215332293502, -0.718802458515107, 0.03341135510320849, -0.4677817561429891, -0.15083572558775005]</td>\n",
       "      <td>108</td>\n",
       "    </tr>\n",
       "    <tr>\n",
       "      <th>10</th>\n",
       "      <td>lammps_job</td>\n",
       "      <td>[element: [None, AtomicNumber                       13\\nAtomicRadius                    118.0\\nAtomicMass                  26.981539\\nColor                          Silver\\nCovalentRadius         ...</td>\n",
       "      <td>-350.830057</td>\n",
       "      <td>[[-0.420012726158848, -0.266177748010431, -0.10061532349639205], [0.127384145208824, -0.248152628480852, -0.154576243850877], [-0.968537642185758, -0.39199433409687007, 0.11778481825176891], [-0.5...</td>\n",
       "      <td>[-0.5131786603043991, 0.08578602954855179, -0.487658631946179, -0.009605776130282108, -0.19413518570039506, -0.21118720406901204]</td>\n",
       "      <td>108</td>\n",
       "    </tr>\n",
       "    <tr>\n",
       "      <th>11</th>\n",
       "      <td>lammps_job</td>\n",
       "      <td>[element: [None, AtomicNumber                       13\\nAtomicRadius                    118.0\\nAtomicMass                  26.981539\\nColor                          Silver\\nCovalentRadius         ...</td>\n",
       "      <td>-350.702007</td>\n",
       "      <td>[[0.9153781717748, -0.5196757756775509, 0.498517073710415], [-0.667528324894004, -0.21672146416275304, -0.31211194811421505], [0.120312800491091, -0.043411302241849095, -0.406043538747074], [0.235...</td>\n",
       "      <td>[-0.51351056300053, -0.20205565562462502, -0.3496115696193531, 0.06566750820152925, -0.549794514544474, -0.08985658356369164]</td>\n",
       "      <td>108</td>\n",
       "    </tr>\n",
       "    <tr>\n",
       "      <th>12</th>\n",
       "      <td>lammps_job</td>\n",
       "      <td>[element: [None, AtomicNumber                       13\\nAtomicRadius                    118.0\\nAtomicMass                  26.981539\\nColor                          Silver\\nCovalentRadius         ...</td>\n",
       "      <td>-350.283347</td>\n",
       "      <td>[[0.235132393610786, -0.92320491047853, 0.23010090806109595], [0.4464059221284, 0.599380126332439, -0.47014243704993197], [-0.0750267922586507, 0.262245923203885, 0.479967633267096], [-0.694735048...</td>\n",
       "      <td>[-0.578429638769351, -0.434046865104863, -0.168847000423391, 0.14404756870586297, -0.10672866413529905, -0.31830962918949407]</td>\n",
       "      <td>108</td>\n",
       "    </tr>\n",
       "    <tr>\n",
       "      <th>13</th>\n",
       "      <td>lammps_job</td>\n",
       "      <td>[element: [None, AtomicNumber                       13\\nAtomicRadius                    118.0\\nAtomicMass                  26.981539\\nColor                          Silver\\nCovalentRadius         ...</td>\n",
       "      <td>-351.595189</td>\n",
       "      <td>[[-0.10082749580572, 0.523484145402097, -1.0350343625323], [0.354729759304219, 0.701653159364364, 0.7878115361205081], [-0.0367556462367837, -0.495902791299659, 1.00115978036795], [-0.010109163992...</td>\n",
       "      <td>[-0.48245036720220597, -0.6429619358987481, -0.45615891646821305, 0.12156601043838997, 0.028722694543442163, -0.13886960361517803]</td>\n",
       "      <td>108</td>\n",
       "    </tr>\n",
       "    <tr>\n",
       "      <th>14</th>\n",
       "      <td>lammps_job</td>\n",
       "      <td>[element: [None, AtomicNumber                       13\\nAtomicRadius                    118.0\\nAtomicMass                  26.981539\\nColor                          Silver\\nCovalentRadius         ...</td>\n",
       "      <td>-351.355429</td>\n",
       "      <td>[[-0.53033805263242, 0.30151077109769797, 0.48889617311781], [0.365332073308618, 0.257204756311451, 0.46421415718266706], [-0.55795462205606, -0.528920209655739, -1.01193560142206], [-0.8349912505...</td>\n",
       "      <td>[0.13501098545634, 0.8436525885969681, 0.633953784861439, -0.09832009167866315, -0.0583454827760237, -0.148099371736581]</td>\n",
       "      <td>108</td>\n",
       "    </tr>\n",
       "    <tr>\n",
       "      <th>15</th>\n",
       "      <td>lammps_job</td>\n",
       "      <td>[element: [None, AtomicNumber                       13\\nAtomicRadius                    118.0\\nAtomicMass                  26.981539\\nColor                          Silver\\nCovalentRadius         ...</td>\n",
       "      <td>-349.861266</td>\n",
       "      <td>[[-0.735834944299172, 0.16983472103263894, 0.30896574018502293], [-0.56617377829579, -0.06252047071209063, -0.18361928260349702], [-0.326718424112994, -0.721001479459434, 0.09705913082936173], [0....</td>\n",
       "      <td>[0.446586866327166, 0.13068019034171802, -0.06937589902723172, -0.263866851749946, 0.10925215678469705, 0.13607792544806202]</td>\n",
       "      <td>108</td>\n",
       "    </tr>\n",
       "    <tr>\n",
       "      <th>16</th>\n",
       "      <td>lammps_job</td>\n",
       "      <td>[element: [None, AtomicNumber                       13\\nAtomicRadius                    118.0\\nAtomicMass                  26.981539\\nColor                          Silver\\nCovalentRadius         ...</td>\n",
       "      <td>-352.007585</td>\n",
       "      <td>[[0.301178602933076, 0.258002276944641, -0.27143156569769294], [-0.298930228924858, -0.03075712133705462, -0.364812391605405], [-0.797427142712701, -0.74286906074633, -0.4273785140338071], [0.0727...</td>\n",
       "      <td>[-0.757934402614806, -0.614667264232027, -0.667927922027262, -0.20235825539995306, -0.18872796386125404, 0.387520484780866]</td>\n",
       "      <td>108</td>\n",
       "    </tr>\n",
       "    <tr>\n",
       "      <th>17</th>\n",
       "      <td>lammps_job</td>\n",
       "      <td>[element: [None, AtomicNumber                       13\\nAtomicRadius                    118.0\\nAtomicMass                  26.981539\\nColor                          Silver\\nCovalentRadius         ...</td>\n",
       "      <td>-350.590328</td>\n",
       "      <td>[[0.224009094047, -0.839607604551706, 0.777637424807001], [0.694708728593008, -0.01978842244270086, -0.563089538819962], [-0.0726046276015651, 0.180208519203361, 0.157259401253289], [0.11284631102...</td>\n",
       "      <td>[-0.57750724810661, -0.3307052919049551, -0.24897277922262204, 0.00354743839297119, 0.21765237954049194, -0.37280357166477507]</td>\n",
       "      <td>108</td>\n",
       "    </tr>\n",
       "    <tr>\n",
       "      <th>18</th>\n",
       "      <td>lammps_job_vac</td>\n",
       "      <td>[element: [None, AtomicNumber                       13\\nAtomicRadius                    118.0\\nAtomicMass                  26.981539\\nColor                          Silver\\nCovalentRadius         ...</td>\n",
       "      <td>-290.793066</td>\n",
       "      <td>[[-3.1974423109204496e-14, -0.5904705706758219, -0.590470570675822], [-0.5904705706758229, -3.325957990662624e-14, -0.590470570675822], [-0.5904705706758219, -0.590470570675821, -3.642777903722078...</td>\n",
       "      <td>[58.87969078759508, 58.65874845858828, 58.50796880315438, -0.047554178778302515, -0.33314286846391333, 0.07410497611298358]</td>\n",
       "      <td>107</td>\n",
       "    </tr>\n",
       "    <tr>\n",
       "      <th>19</th>\n",
       "      <td>lammps_job_surf</td>\n",
       "      <td>[element: [None, AtomicNumber                       13\\nAtomicRadius                    118.0\\nAtomicMass                  26.981539\\nColor                          Silver\\nCovalentRadius         ...</td>\n",
       "      <td>-428.609075</td>\n",
       "      <td>[[2.44249065417534e-15, 4.56905929757667e-10, 0.314474097336679], [-9.29811783123569e-16, 4.56905354696835e-10, 0.314474097336678], [2.7611647777231502e-15, 4.56905929757667e-10, 0.314474097336678...</td>\n",
       "      <td>[-0.693731819636784, -0.575956660364361, -0.802656043307567, -0.06679561501062026, -0.14566337813487507, -0.020996350092703946]</td>\n",
       "      <td>128</td>\n",
       "    </tr>\n",
       "  </tbody>\n",
       "</table>\n",
       "</div>"
      ],
      "text/plain": [
       "               name  \\\n",
       "0         job_a_3_8   \n",
       "1         job_a_3_9   \n",
       "2         job_a_4_0   \n",
       "3         job_a_4_1   \n",
       "4         job_a_4_2   \n",
       "5         job_a_4_3   \n",
       "6         job_a_4_4   \n",
       "7        lammps_job   \n",
       "8        lammps_job   \n",
       "9        lammps_job   \n",
       "10       lammps_job   \n",
       "11       lammps_job   \n",
       "12       lammps_job   \n",
       "13       lammps_job   \n",
       "14       lammps_job   \n",
       "15       lammps_job   \n",
       "16       lammps_job   \n",
       "17       lammps_job   \n",
       "18   lammps_job_vac   \n",
       "19  lammps_job_surf   \n",
       "\n",
       "                                                                                                                                                                                                      atoms  \\\n",
       "0   [element: [None, AtomicNumber                       13\\nAtomicRadius                    118.0\\nAtomicMass                  26.981539\\nColor                          Silver\\nCovalentRadius         ...   \n",
       "1   [element: [None, AtomicNumber                       13\\nAtomicRadius                    118.0\\nAtomicMass                  26.981539\\nColor                          Silver\\nCovalentRadius         ...   \n",
       "2   [element: [None, AtomicNumber                       13\\nAtomicRadius                    118.0\\nAtomicMass                  26.981539\\nColor                          Silver\\nCovalentRadius         ...   \n",
       "3   [element: [None, AtomicNumber                       13\\nAtomicRadius                    118.0\\nAtomicMass                  26.981539\\nColor                          Silver\\nCovalentRadius         ...   \n",
       "4   [element: [None, AtomicNumber                       13\\nAtomicRadius                    118.0\\nAtomicMass                  26.981539\\nColor                          Silver\\nCovalentRadius         ...   \n",
       "5   [element: [None, AtomicNumber                       13\\nAtomicRadius                    118.0\\nAtomicMass                  26.981539\\nColor                          Silver\\nCovalentRadius         ...   \n",
       "6   [element: [None, AtomicNumber                       13\\nAtomicRadius                    118.0\\nAtomicMass                  26.981539\\nColor                          Silver\\nCovalentRadius         ...   \n",
       "7   [element: [None, AtomicNumber                       13\\nAtomicRadius                    118.0\\nAtomicMass                  26.981539\\nColor                          Silver\\nCovalentRadius         ...   \n",
       "8   [element: [None, AtomicNumber                       13\\nAtomicRadius                    118.0\\nAtomicMass                  26.981539\\nColor                          Silver\\nCovalentRadius         ...   \n",
       "9   [element: [None, AtomicNumber                       13\\nAtomicRadius                    118.0\\nAtomicMass                  26.981539\\nColor                          Silver\\nCovalentRadius         ...   \n",
       "10  [element: [None, AtomicNumber                       13\\nAtomicRadius                    118.0\\nAtomicMass                  26.981539\\nColor                          Silver\\nCovalentRadius         ...   \n",
       "11  [element: [None, AtomicNumber                       13\\nAtomicRadius                    118.0\\nAtomicMass                  26.981539\\nColor                          Silver\\nCovalentRadius         ...   \n",
       "12  [element: [None, AtomicNumber                       13\\nAtomicRadius                    118.0\\nAtomicMass                  26.981539\\nColor                          Silver\\nCovalentRadius         ...   \n",
       "13  [element: [None, AtomicNumber                       13\\nAtomicRadius                    118.0\\nAtomicMass                  26.981539\\nColor                          Silver\\nCovalentRadius         ...   \n",
       "14  [element: [None, AtomicNumber                       13\\nAtomicRadius                    118.0\\nAtomicMass                  26.981539\\nColor                          Silver\\nCovalentRadius         ...   \n",
       "15  [element: [None, AtomicNumber                       13\\nAtomicRadius                    118.0\\nAtomicMass                  26.981539\\nColor                          Silver\\nCovalentRadius         ...   \n",
       "16  [element: [None, AtomicNumber                       13\\nAtomicRadius                    118.0\\nAtomicMass                  26.981539\\nColor                          Silver\\nCovalentRadius         ...   \n",
       "17  [element: [None, AtomicNumber                       13\\nAtomicRadius                    118.0\\nAtomicMass                  26.981539\\nColor                          Silver\\nCovalentRadius         ...   \n",
       "18  [element: [None, AtomicNumber                       13\\nAtomicRadius                    118.0\\nAtomicMass                  26.981539\\nColor                          Silver\\nCovalentRadius         ...   \n",
       "19  [element: [None, AtomicNumber                       13\\nAtomicRadius                    118.0\\nAtomicMass                  26.981539\\nColor                          Silver\\nCovalentRadius         ...   \n",
       "\n",
       "        energy  \\\n",
       "0    -3.192897   \n",
       "1    -3.319542   \n",
       "2    -3.367063   \n",
       "3    -3.360600   \n",
       "4    -3.317017   \n",
       "5    -3.241535   \n",
       "6    -3.145751   \n",
       "7  -363.917370   \n",
       "8  -352.327898   \n",
       "9  -349.888834   \n",
       "10 -350.830057   \n",
       "11 -350.702007   \n",
       "12 -350.283347   \n",
       "13 -351.595189   \n",
       "14 -351.355429   \n",
       "15 -349.861266   \n",
       "16 -352.007585   \n",
       "17 -350.590328   \n",
       "18 -290.793066   \n",
       "19 -428.609075   \n",
       "\n",
       "                                                                                                                                                                                                     forces  \\\n",
       "0                                                                                                                                [[1.6276043110675176e-16, 1.0529105848988852e-16, 5.1718187378489436e-17]]   \n",
       "1                                                                                                                                  [[7.639186604470381e-18, 1.2897999183801795e-17, 6.560662375038692e-17]]   \n",
       "2                                                                                                                                [[-3.5024524628727396e-17, -1.320930466294525e-17, 5.849496262865055e-18]]   \n",
       "3                                                                                                                              [[-2.2377622695133157e-17, -4.0689075283847526e-17, 2.1062919550300275e-17]]   \n",
       "4                                                                                                                                 [[2.1405562304448044e-17, 9.465137265930533e-17, -1.614674972511662e-17]]   \n",
       "5                                                                                                                               [[-5.0018187940959333e-17, -7.753256254350387e-17, -7.947668332487412e-17]]   \n",
       "6                                                                                                                                 [[-7.31320096256601e-17, 2.773206044106321e-16, -1.2031135854225408e-16]]   \n",
       "7   [[5.8841820305133305e-15, 3.7990444123892135e-16, 2.740863092043364e-16], [5.02375918642883e-15, -1.5751289161869397e-15, -1.3274971399912499e-15], [1.02695629777827e-15, 8.812395257962181e-16, -8...   \n",
       "8   [[-0.75036385499113, 0.4598380918639449, 0.725200216845603], [-0.271732166045788, 0.302073802280348, 0.257384300490495], [0.448407157614891, -0.296549448310268, 0.241166662468148], [-0.00933123696...   \n",
       "9   [[-0.380822550162949, 0.795020858927261, 0.552227922138795], [-0.815959874301847, -0.02386117799239805, -0.47623155209815404], [-0.286795110662345, 0.30418979949872, 0.970569998348215], [-0.550088...   \n",
       "10  [[-0.420012726158848, -0.266177748010431, -0.10061532349639205], [0.127384145208824, -0.248152628480852, -0.154576243850877], [-0.968537642185758, -0.39199433409687007, 0.11778481825176891], [-0.5...   \n",
       "11  [[0.9153781717748, -0.5196757756775509, 0.498517073710415], [-0.667528324894004, -0.21672146416275304, -0.31211194811421505], [0.120312800491091, -0.043411302241849095, -0.406043538747074], [0.235...   \n",
       "12  [[0.235132393610786, -0.92320491047853, 0.23010090806109595], [0.4464059221284, 0.599380126332439, -0.47014243704993197], [-0.0750267922586507, 0.262245923203885, 0.479967633267096], [-0.694735048...   \n",
       "13  [[-0.10082749580572, 0.523484145402097, -1.0350343625323], [0.354729759304219, 0.701653159364364, 0.7878115361205081], [-0.0367556462367837, -0.495902791299659, 1.00115978036795], [-0.010109163992...   \n",
       "14  [[-0.53033805263242, 0.30151077109769797, 0.48889617311781], [0.365332073308618, 0.257204756311451, 0.46421415718266706], [-0.55795462205606, -0.528920209655739, -1.01193560142206], [-0.8349912505...   \n",
       "15  [[-0.735834944299172, 0.16983472103263894, 0.30896574018502293], [-0.56617377829579, -0.06252047071209063, -0.18361928260349702], [-0.326718424112994, -0.721001479459434, 0.09705913082936173], [0....   \n",
       "16  [[0.301178602933076, 0.258002276944641, -0.27143156569769294], [-0.298930228924858, -0.03075712133705462, -0.364812391605405], [-0.797427142712701, -0.74286906074633, -0.4273785140338071], [0.0727...   \n",
       "17  [[0.224009094047, -0.839607604551706, 0.777637424807001], [0.694708728593008, -0.01978842244270086, -0.563089538819962], [-0.0726046276015651, 0.180208519203361, 0.157259401253289], [0.11284631102...   \n",
       "18  [[-3.1974423109204496e-14, -0.5904705706758219, -0.590470570675822], [-0.5904705706758229, -3.325957990662624e-14, -0.590470570675822], [-0.5904705706758219, -0.590470570675821, -3.642777903722078...   \n",
       "19  [[2.44249065417534e-15, 4.56905929757667e-10, 0.314474097336679], [-9.29811783123569e-16, 4.56905354696835e-10, 0.314474097336678], [2.7611647777231502e-15, 4.56905929757667e-10, 0.314474097336678...   \n",
       "\n",
       "                                                                                                                                  stress  \\\n",
       "0     [25.037460604415703, 25.037460605376904, 25.037460604885503, 9.278150850360161e-10, 9.583505518476542e-10, -6.776540272768861e-10]   \n",
       "1   [11.7835809621756, 11.783580962894401, 11.783580964499402, -2.9210890660206204e-11, 4.5548187747551897e-10, -3.2208895273694305e-10]   \n",
       "2        [2.1774865934278202, 2.17748659599896, 2.1774865953501803, -1.2204712117387501e-11, 8.04195020225017e-10, 1.13730200248357e-09]   \n",
       "3          [-3.32656345373484, -3.32656345287999, -3.32656345199962, 1.44346086248294e-10, 2.68736816186093e-10, 3.8004542651085804e-10]   \n",
       "4      [-7.34400540416366, -7.344005404000251, -7.3440054020844014, 5.444172612856411e-10, 9.032537237010151e-10, -6.38697915161281e-10]   \n",
       "5      [-10.206225127542101, -10.2062251265863, -10.2062251275071, 2.3284396085851003e-10, 2.69898641821963e-10, 3.8169349934623504e-10]   \n",
       "6        [-11.0438299224574, -11.0438299224868, -11.0438299224679, -5.24346994489793e-11, -2.1255620053309103e-11, 1.50307693032171e-11]   \n",
       "7           [0.999556665124294, 0.9904736758167861, 0.824951894171107, -0.017955018197828142, 0.06363360519613635, -0.04256361660396504]   \n",
       "8     [-0.20333593198685002, -0.0514950077978542, -0.380336649881006, -0.192008378726288, -0.0008491478026102756, -0.021247590027086812]   \n",
       "9            [-0.636237386917572, -1.22215332293502, -0.718802458515107, 0.03341135510320849, -0.4677817561429891, -0.15083572558775005]   \n",
       "10     [-0.5131786603043991, 0.08578602954855179, -0.487658631946179, -0.009605776130282108, -0.19413518570039506, -0.21118720406901204]   \n",
       "11         [-0.51351056300053, -0.20205565562462502, -0.3496115696193531, 0.06566750820152925, -0.549794514544474, -0.08985658356369164]   \n",
       "12         [-0.578429638769351, -0.434046865104863, -0.168847000423391, 0.14404756870586297, -0.10672866413529905, -0.31830962918949407]   \n",
       "13    [-0.48245036720220597, -0.6429619358987481, -0.45615891646821305, 0.12156601043838997, 0.028722694543442163, -0.13886960361517803]   \n",
       "14              [0.13501098545634, 0.8436525885969681, 0.633953784861439, -0.09832009167866315, -0.0583454827760237, -0.148099371736581]   \n",
       "15          [0.446586866327166, 0.13068019034171802, -0.06937589902723172, -0.263866851749946, 0.10925215678469705, 0.13607792544806202]   \n",
       "16           [-0.757934402614806, -0.614667264232027, -0.667927922027262, -0.20235825539995306, -0.18872796386125404, 0.387520484780866]   \n",
       "17        [-0.57750724810661, -0.3307052919049551, -0.24897277922262204, 0.00354743839297119, 0.21765237954049194, -0.37280357166477507]   \n",
       "18           [58.87969078759508, 58.65874845858828, 58.50796880315438, -0.047554178778302515, -0.33314286846391333, 0.07410497611298358]   \n",
       "19       [-0.693731819636784, -0.575956660364361, -0.802656043307567, -0.06679561501062026, -0.14566337813487507, -0.020996350092703946]   \n",
       "\n",
       "    number_of_atoms  \n",
       "0                 1  \n",
       "1                 1  \n",
       "2                 1  \n",
       "3                 1  \n",
       "4                 1  \n",
       "5                 1  \n",
       "6                 1  \n",
       "7               108  \n",
       "8               108  \n",
       "9               108  \n",
       "10              108  \n",
       "11              108  \n",
       "12              108  \n",
       "13              108  \n",
       "14              108  \n",
       "15              108  \n",
       "16              108  \n",
       "17              108  \n",
       "18              107  \n",
       "19              128  "
      ]
     },
     "execution_count": 21,
     "metadata": {},
     "output_type": "execute_result"
    }
   ],
   "source": [
    "dataset = pr[\"dataset_example\"]\n",
    "dataset.to_pandas()"
   ]
  },
  {
   "cell_type": "markdown",
   "id": "julian-helena",
   "metadata": {},
   "source": [
    "We can now inspect the data in this dataset quite easily"
   ]
  },
  {
   "cell_type": "code",
   "execution_count": 22,
   "id": "starting-dress",
   "metadata": {},
   "outputs": [],
   "source": [
    "struct = dataset.get_structure(10)"
   ]
  },
  {
   "cell_type": "code",
   "execution_count": 23,
   "id": "17e6c3dc-9434-4423-86e6-50c014ce34e6",
   "metadata": {},
   "outputs": [
    {
     "data": {
      "application/vnd.jupyter.widget-view+json": {
       "model_id": "249fd0a4be7843db9593f498a3c59a15",
       "version_major": 2,
       "version_minor": 0
      },
      "text/plain": [
       "NGLWidget()"
      ]
     },
     "metadata": {},
     "output_type": "display_data"
    }
   ],
   "source": [
    "struct.plot3d()"
   ]
  },
  {
   "cell_type": "code",
   "execution_count": 24,
   "id": "8ee351f5-d547-4270-b4b4-3bec1af7eed1",
   "metadata": {},
   "outputs": [
    {
     "data": {
      "image/png": "[encoded data removed]",
      "text/plain": [
       "<Figure size 640x480 with 1 Axes>"
      ]
     },
     "metadata": {},
     "output_type": "display_data"
    }
   ],
   "source": [
    "dataset.plot.energy_volume();"
   ]
  },
  {
   "cell_type": "code",
   "execution_count": 22,
   "id": "ccd8a646-7767-4a85-9cfa-fb4fccd5b574",
   "metadata": {},
   "outputs": [
    {
     "data": {
      "image/png": "[encoded data removed]",
      "text/plain": [
       "<Figure size 640x480 with 1 Axes>"
      ]
     },
     "metadata": {},
     "output_type": "display_data"
    }
   ],
   "source": [
    "dataset.plot.forces()"
   ]
  },
  {
   "cell_type": "markdown",
   "id": "suited-blank",
   "metadata": {},
   "source": [
    "The datasets used in the potential fitting procedure for day 2 (obtained from accurate DFT calculations) will be accessed in the same way."
   ]
  },
  {
   "cell_type": "markdown",
   "id": "82610317-50e7-4ebe-9344-6418e8c01715",
   "metadata": {},
   "source": [
    "## Extra Credit\n",
    "\n",
    "1. Add more interesting structures. Ideas:\n",
    "    - Dimer, trimers\n",
    "    - Cleaving of a bulk structure, i.e. create a super cell and separate the atoms along a chosen plane\n",
    "    - high or low pressure MD\n",
    "    - Different crystal structures\n",
    "    - ..."
   ]
  }
 ],
 "metadata": {
  "kernelspec": {
   "display_name": "Python 3 (ipykernel)",
   "language": "python",
   "name": "python3"
  },
  "language_info": {
   "codemirror_mode": {
    "name": "ipython",
    "version": 3
   },
   "file_extension": ".py",
   "mimetype": "text/x-python",
   "name": "python",
   "nbconvert_exporter": "python",
   "pygments_lexer": "ipython3",
   "version": "3.8.15"
  },
  "widgets": {
   "application/vnd.jupyter.widget-state+json": {
    "state": {},
    "version_major": 2,
    "version_minor": 0
   }
  }
 },
 "nbformat": 4,
 "nbformat_minor": 5
}
