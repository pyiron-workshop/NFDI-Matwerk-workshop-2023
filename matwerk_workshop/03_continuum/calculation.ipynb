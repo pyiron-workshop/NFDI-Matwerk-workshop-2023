{
 "cells": [
  {
   "cell_type": "code",
   "execution_count": null,
   "id": "large-validity",
   "metadata": {},
   "outputs": [],
   "source": [
    "from pyiron import Project\n",
    "from pyiron import Notebook"
   ]
  },
  {
   "cell_type": "code",
   "execution_count": null,
   "id": "enclosed-basics",
   "metadata": {},
   "outputs": [],
   "source": [
    "pr = Project(default_working_directory=True)"
   ]
  },
  {
   "cell_type": "code",
   "execution_count": null,
   "id": "legislative-individual",
   "metadata": {},
   "outputs": [],
   "source": [
    "external_input = pr.get_external_input()"
   ]
  },
  {
   "cell_type": "code",
   "execution_count": null,
   "id": "unexpected-andrews",
   "metadata": {},
   "outputs": [],
   "source": [
    "def calculation(value):\n",
    "    return 2 * value"
   ]
  },
  {
   "cell_type": "code",
   "execution_count": null,
   "id": "controversial-dictionary",
   "metadata": {},
   "outputs": [],
   "source": [
    "result = calculation(external_input['value'])"
   ]
  },
  {
   "cell_type": "code",
   "execution_count": null,
   "id": "precious-lingerie",
   "metadata": {},
   "outputs": [],
   "source": [
    "Notebook().store_custom_output_dict(\n",
    "    {\"result\": result}\n",
    ")"
   ]
  }
 ],
 "metadata": {
  "kernelspec": {
   "display_name": "Python 3 (ipykernel)",
   "language": "python",
   "name": "python3"
  },
  "language_info": {
   "codemirror_mode": {
    "name": "ipython",
    "version": 3
   },
   "file_extension": ".py",
   "mimetype": "text/x-python",
   "name": "python",
   "nbconvert_exporter": "python",
   "pygments_lexer": "ipython3",
   "version": "3.9.7"
  }
 },
 "nbformat": 4,
 "nbformat_minor": 5
}
