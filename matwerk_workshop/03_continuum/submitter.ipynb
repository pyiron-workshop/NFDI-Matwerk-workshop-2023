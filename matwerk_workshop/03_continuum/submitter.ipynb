{
 "cells": [
  {
   "cell_type": "code",
   "execution_count": 1,
   "id": "retained-architect",
   "metadata": {},
   "outputs": [
    {
     "data": {
      "application/vnd.jupyter.widget-view+json": {
       "model_id": "fd03bc20f43c4984a7d2382dda55523a",
       "version_major": 2,
       "version_minor": 0
      },
      "text/plain": []
     },
     "metadata": {},
     "output_type": "display_data"
    }
   ],
   "source": [
    "from pyiron import Project\n",
    "import matplotlib.pylab as plt\n",
    "%matplotlib inline"
   ]
  },
  {
   "cell_type": "code",
   "execution_count": 2,
   "id": "dependent-packing",
   "metadata": {},
   "outputs": [],
   "source": [
    "pr = Project('submission')"
   ]
  },
  {
   "cell_type": "code",
   "execution_count": 3,
   "id": "58c39298-fe22-4310-b139-625763f3667a",
   "metadata": {},
   "outputs": [],
   "source": [
    "job = pr.create.job.ScriptJob('calculation')"
   ]
  },
  {
   "cell_type": "code",
   "execution_count": 4,
   "id": "universal-routine",
   "metadata": {},
   "outputs": [],
   "source": [
    "job.script_path = 'calculation.ipynb'"
   ]
  },
  {
   "cell_type": "code",
   "execution_count": 5,
   "id": "informal-volunteer",
   "metadata": {},
   "outputs": [
    {
     "name": "stdout",
     "output_type": "stream",
     "text": [
      "The job calculation was saved and received the ID: 54\n"
     ]
    },
    {
     "data": {
      "application/vnd.jupyter.widget-view+json": {
       "model_id": "5c9d56fd8abe4a60bc8296f0432d4d6d",
       "version_major": 2,
       "version_minor": 0
      },
      "text/plain": [
       "  0%|          | 0/5 [00:00<?, ?it/s]"
      ]
     },
     "metadata": {},
     "output_type": "display_data"
    },
    {
     "name": "stdout",
     "output_type": "stream",
     "text": [
      "10\n"
     ]
    }
   ],
   "source": [
    "job.input['value'] = 5\n",
    "job.run()\n",
    "print(job['output/result'])"
   ]
  },
  {
   "cell_type": "code",
   "execution_count": null,
   "id": "published-maker",
   "metadata": {},
   "outputs": [],
   "source": []
  }
 ],
 "metadata": {
  "kernelspec": {
   "display_name": "Python 3 (ipykernel)",
   "language": "python",
   "name": "python3"
  },
  "language_info": {
   "codemirror_mode": {
    "name": "ipython",
    "version": 3
   },
   "file_extension": ".py",
   "mimetype": "text/x-python",
   "name": "python",
   "nbconvert_exporter": "python",
   "pygments_lexer": "ipython3",
   "version": "3.9.7"
  }
 },
 "nbformat": 4,
 "nbformat_minor": 5
}
