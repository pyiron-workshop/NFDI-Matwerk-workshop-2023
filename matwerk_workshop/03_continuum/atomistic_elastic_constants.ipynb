{
 "cells": [
  {
   "cell_type": "code",
   "execution_count": null,
   "id": "suitable-convertible",
   "metadata": {},
   "outputs": [],
   "source": [
    "from pyiron_atomistics import Project\n",
    "import matplotlib.pylab as plt\n",
    "%matplotlib inline"
   ]
  },
  {
   "cell_type": "code",
   "execution_count": null,
   "id": "architectural-sending",
   "metadata": {},
   "outputs": [],
   "source": [
    "pr = Project('elastic_constants')"
   ]
  },
  {
   "cell_type": "code",
   "execution_count": null,
   "id": "related-carter",
   "metadata": {
    "tags": []
   },
   "outputs": [],
   "source": [
    "engine = pr.create.job.Lammps('engine')\n",
    "engine.structure = pr.create.structure.bulk('Al', cubic=True)\n",
    "parent = engine.create_job('ElasticTensor', 'parent')\n",
    "parent.run()"
   ]
  },
  {
   "cell_type": "code",
   "execution_count": null,
   "id": "hungry-supervisor",
   "metadata": {},
   "outputs": [],
   "source": [
    "C = parent['output/elastic_tensor']"
   ]
  },
  {
   "cell_type": "code",
   "execution_count": null,
   "id": "statutory-offset",
   "metadata": {},
   "outputs": [],
   "source": [
    "plt.imshow(C)\n",
    "plt.colorbar().set_label('Elastic constants GPa');"
   ]
  },
  {
   "cell_type": "code",
   "execution_count": null,
   "id": "czech-secondary",
   "metadata": {},
   "outputs": [],
   "source": []
  }
 ],
 "metadata": {
  "kernelspec": {
   "display_name": "Python 3",
   "language": "python",
   "name": "python3"
  },
  "language_info": {
   "codemirror_mode": {
    "name": "ipython",
    "version": 3
   },
   "file_extension": ".py",
   "mimetype": "text/x-python",
   "name": "python",
   "nbconvert_exporter": "python",
   "pygments_lexer": "ipython3",
   "version": "3.8.6"
  }
 },
 "nbformat": 4,
 "nbformat_minor": 5
}
